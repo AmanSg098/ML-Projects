{
 "cells": [
  {
   "cell_type": "markdown",
   "metadata": {
    "id": "9x1O8BkAvY-f"
   },
   "source": [
    "## Including Necessary Library"
   ]
  },
  {
   "cell_type": "code",
   "execution_count": 1,
   "metadata": {
    "id": "VPQlz8aIue7G"
   },
   "outputs": [],
   "source": [
    "import pandas as pd\n",
    "import numpy as np\n",
    "import matplotlib.pyplot as plt"
   ]
  },
  {
   "cell_type": "code",
   "execution_count": 2,
   "metadata": {
    "colab": {
     "base_uri": "https://localhost:8080/"
    },
    "id": "SuPcszg6ue3u",
    "outputId": "a059094d-d2ef-4ddd-bd81-d766894cc25e"
   },
   "outputs": [
    {
     "name": "stdout",
     "output_type": "stream",
     "text": [
      "Requirement already satisfied: contractions in c:\\anaconda_install\\lib\\site-packages (0.1.73)\n",
      "Requirement already satisfied: textsearch>=0.0.21 in c:\\anaconda_install\\lib\\site-packages (from contractions) (0.0.24)\n",
      "Requirement already satisfied: pyahocorasick in c:\\anaconda_install\\lib\\site-packages (from textsearch>=0.0.21->contractions) (2.1.0)\n",
      "Requirement already satisfied: anyascii in c:\\anaconda_install\\lib\\site-packages (from textsearch>=0.0.21->contractions) (0.3.2)\n",
      "Note: you may need to restart the kernel to use updated packages.\n"
     ]
    }
   ],
   "source": [
    "pip install contractions"
   ]
  },
  {
   "cell_type": "markdown",
   "metadata": {},
   "source": [
    "## loading data"
   ]
  },
  {
   "cell_type": "code",
   "execution_count": 3,
   "metadata": {
    "id": "IXvhJRGcue1G"
   },
   "outputs": [],
   "source": [
    "data = pd.read_csv(\"cb_multi_labeled_balanced.csv\")"
   ]
  },
  {
   "cell_type": "code",
   "execution_count": 4,
   "metadata": {
    "colab": {
     "base_uri": "https://localhost:8080/",
     "height": 206
    },
    "id": "2U2XzPSbuey1",
    "outputId": "1ca9529f-494d-4a54-eed1-d83f8e722132",
    "scrolled": true
   },
   "outputs": [
    {
     "data": {
      "text/html": [
       "<div>\n",
       "<style scoped>\n",
       "    .dataframe tbody tr th:only-of-type {\n",
       "        vertical-align: middle;\n",
       "    }\n",
       "\n",
       "    .dataframe tbody tr th {\n",
       "        vertical-align: top;\n",
       "    }\n",
       "\n",
       "    .dataframe thead th {\n",
       "        text-align: right;\n",
       "    }\n",
       "</style>\n",
       "<table border=\"1\" class=\"dataframe\">\n",
       "  <thead>\n",
       "    <tr style=\"text-align: right;\">\n",
       "      <th></th>\n",
       "      <th>text</th>\n",
       "      <th>label</th>\n",
       "    </tr>\n",
       "  </thead>\n",
       "  <tbody>\n",
       "    <tr>\n",
       "      <th>0</th>\n",
       "      <td>@ZubearSays Any real nigga isn't letting this ...</td>\n",
       "      <td>ethnicity/race</td>\n",
       "    </tr>\n",
       "    <tr>\n",
       "      <th>1</th>\n",
       "      <td>@MoradoSkittle @prolifejewess @DAConsult @Kell...</td>\n",
       "      <td>not_cyberbullying</td>\n",
       "    </tr>\n",
       "    <tr>\n",
       "      <th>2</th>\n",
       "      <td>the only thing i wish, i wish a nigga would</td>\n",
       "      <td>ethnicity/race</td>\n",
       "    </tr>\n",
       "    <tr>\n",
       "      <th>3</th>\n",
       "      <td>You saudias are not friends of Muslim idiots c...</td>\n",
       "      <td>religion</td>\n",
       "    </tr>\n",
       "    <tr>\n",
       "      <th>4</th>\n",
       "      <td>@JaydenT2399 @TractorLaw @holmes_gael @erconge...</td>\n",
       "      <td>religion</td>\n",
       "    </tr>\n",
       "  </tbody>\n",
       "</table>\n",
       "</div>"
      ],
      "text/plain": [
       "                                                text              label\n",
       "0  @ZubearSays Any real nigga isn't letting this ...     ethnicity/race\n",
       "1  @MoradoSkittle @prolifejewess @DAConsult @Kell...  not_cyberbullying\n",
       "2        the only thing i wish, i wish a nigga would     ethnicity/race\n",
       "3  You saudias are not friends of Muslim idiots c...           religion\n",
       "4  @JaydenT2399 @TractorLaw @holmes_gael @erconge...           religion"
      ]
     },
     "execution_count": 4,
     "metadata": {},
     "output_type": "execute_result"
    }
   ],
   "source": [
    "data.head()"
   ]
  },
  {
   "cell_type": "markdown",
   "metadata": {},
   "source": [
    "### Exploring data"
   ]
  },
  {
   "cell_type": "code",
   "execution_count": 5,
   "metadata": {
    "colab": {
     "base_uri": "https://localhost:8080/"
    },
    "id": "snrmgwVqpNU7",
    "outputId": "fc75110f-0352-4239-a093-c5344c0c27a9",
    "scrolled": true
   },
   "outputs": [
    {
     "data": {
      "text/plain": [
       "array(['ethnicity/race', 'not_cyberbullying', 'religion', 'gender/sexual'],\n",
       "      dtype=object)"
      ]
     },
     "execution_count": 5,
     "metadata": {},
     "output_type": "execute_result"
    }
   ],
   "source": [
    "# checking for unique labels\n",
    "data[\"label\"].unique()"
   ]
  },
  {
   "cell_type": "code",
   "execution_count": 6,
   "metadata": {
    "colab": {
     "base_uri": "https://localhost:8080/"
    },
    "id": "8XXIh2BGwoLo",
    "outputId": "b4b298c1-dc48-4828-f84f-e9843034834b"
   },
   "outputs": [
    {
     "data": {
      "text/plain": [
       "text     0\n",
       "label    0\n",
       "dtype: int64"
      ]
     },
     "execution_count": 6,
     "metadata": {},
     "output_type": "execute_result"
    }
   ],
   "source": [
    "# checking for null values\n",
    "data.isnull().sum()"
   ]
  },
  {
   "cell_type": "code",
   "execution_count": 7,
   "metadata": {
    "colab": {
     "base_uri": "https://localhost:8080/"
    },
    "id": "8jtEwYcbxBXC",
    "outputId": "4617dbd2-9086-4317-f415-23e285f403c9"
   },
   "outputs": [
    {
     "data": {
      "text/plain": [
       "1"
      ]
     },
     "execution_count": 7,
     "metadata": {},
     "output_type": "execute_result"
    }
   ],
   "source": [
    "# checking for duplicate values\n",
    "data.duplicated().sum()"
   ]
  },
  {
   "cell_type": "code",
   "execution_count": 8,
   "metadata": {
    "id": "drUHUwWBuCuk"
   },
   "outputs": [
    {
     "name": "stdout",
     "output_type": "stream",
     "text": [
      "<class 'pandas.core.frame.DataFrame'>\n",
      "RangeIndex: 99990 entries, 0 to 99989\n",
      "Data columns (total 2 columns):\n",
      " #   Column  Non-Null Count  Dtype \n",
      "---  ------  --------------  ----- \n",
      " 0   text    99990 non-null  object\n",
      " 1   label   99990 non-null  object\n",
      "dtypes: object(2)\n",
      "memory usage: 1.5+ MB\n"
     ]
    }
   ],
   "source": [
    "data.info()"
   ]
  },
  {
   "cell_type": "code",
   "execution_count": 9,
   "metadata": {
    "id": "N-emlES7uetp",
    "scrolled": true
   },
   "outputs": [
    {
     "data": {
      "text/plain": [
       "0         53\n",
       "1        162\n",
       "2         43\n",
       "3         61\n",
       "4        324\n",
       "        ... \n",
       "99985     51\n",
       "99986    183\n",
       "99987     86\n",
       "99988     34\n",
       "99989     34\n",
       "Name: text, Length: 99990, dtype: int64"
      ]
     },
     "execution_count": 9,
     "metadata": {},
     "output_type": "execute_result"
    }
   ],
   "source": [
    "data_len = data[\"text\"].apply(lambda x: len(x))\n",
    "data_len"
   ]
  },
  {
   "cell_type": "code",
   "execution_count": 10,
   "metadata": {},
   "outputs": [
    {
     "data": {
      "image/png": "[encoded data removed]",
      "text/plain": [
       "<Figure size 400x300 with 1 Axes>"
      ]
     },
     "metadata": {},
     "output_type": "display_data"
    }
   ],
   "source": [
    "# Plotting the histogram\n",
    "plt.figure(figsize=(4,3))\n",
    "plt.hist(data_len, bins=20, color='skyblue', edgecolor='black')\n",
    "plt.title('Text Length Histogram')\n",
    "plt.xlabel('Text Length')\n",
    "plt.ylabel('Frequency')\n",
    "plt.grid(True)\n",
    "plt.show()\n"
   ]
  },
  {
   "cell_type": "markdown",
   "metadata": {
    "id": "iw0GTtTmwx8B"
   },
   "source": [
    "## Cleaning and Preprocessing data"
   ]
  },
  {
   "cell_type": "code",
   "execution_count": 11,
   "metadata": {
    "colab": {
     "base_uri": "https://localhost:8080/",
     "height": 423
    },
    "id": "mgX_GnEci00H",
    "outputId": "4b40a541-fffe-4914-b4b1-2e6ef6508d9f"
   },
   "outputs": [
    {
     "data": {
      "text/html": [
       "<div>\n",
       "<style scoped>\n",
       "    .dataframe tbody tr th:only-of-type {\n",
       "        vertical-align: middle;\n",
       "    }\n",
       "\n",
       "    .dataframe tbody tr th {\n",
       "        vertical-align: top;\n",
       "    }\n",
       "\n",
       "    .dataframe thead th {\n",
       "        text-align: right;\n",
       "    }\n",
       "</style>\n",
       "<table border=\"1\" class=\"dataframe\">\n",
       "  <thead>\n",
       "    <tr style=\"text-align: right;\">\n",
       "      <th></th>\n",
       "      <th>text</th>\n",
       "      <th>label</th>\n",
       "    </tr>\n",
       "  </thead>\n",
       "  <tbody>\n",
       "    <tr>\n",
       "      <th>0</th>\n",
       "      <td>@ZubearSays Any real nigga isn't letting this ...</td>\n",
       "      <td>ethnicity/race</td>\n",
       "    </tr>\n",
       "    <tr>\n",
       "      <th>1</th>\n",
       "      <td>@MoradoSkittle @prolifejewess @DAConsult @Kell...</td>\n",
       "      <td>not_cyberbullying</td>\n",
       "    </tr>\n",
       "    <tr>\n",
       "      <th>2</th>\n",
       "      <td>the only thing i wish, i wish a nigga would</td>\n",
       "      <td>ethnicity/race</td>\n",
       "    </tr>\n",
       "    <tr>\n",
       "      <th>3</th>\n",
       "      <td>You saudias are not friends of Muslim idiots c...</td>\n",
       "      <td>religion</td>\n",
       "    </tr>\n",
       "    <tr>\n",
       "      <th>4</th>\n",
       "      <td>@JaydenT2399 @TractorLaw @holmes_gael @erconge...</td>\n",
       "      <td>religion</td>\n",
       "    </tr>\n",
       "    <tr>\n",
       "      <th>...</th>\n",
       "      <td>...</td>\n",
       "      <td>...</td>\n",
       "    </tr>\n",
       "    <tr>\n",
       "      <th>99985</th>\n",
       "      <td>Thank fuck they didn’t dance remix Peru #LoveI...</td>\n",
       "      <td>not_cyberbullying</td>\n",
       "    </tr>\n",
       "    <tr>\n",
       "      <th>99986</th>\n",
       "      <td>Sierra Canyon vs. Alemany - California High Sc...</td>\n",
       "      <td>not_cyberbullying</td>\n",
       "    </tr>\n",
       "    <tr>\n",
       "      <th>99987</th>\n",
       "      <td>@queenbellaxoxo @PontiacMadeDDG @HalleBailey B...</td>\n",
       "      <td>gender/sexual</td>\n",
       "    </tr>\n",
       "    <tr>\n",
       "      <th>99988</th>\n",
       "      <td>What you like yo nigga to call you</td>\n",
       "      <td>ethnicity/race</td>\n",
       "    </tr>\n",
       "    <tr>\n",
       "      <th>99989</th>\n",
       "      <td>@kirkfranklin Happy CAKE DAY 🌬🎂🎁🎈🎉</td>\n",
       "      <td>not_cyberbullying</td>\n",
       "    </tr>\n",
       "  </tbody>\n",
       "</table>\n",
       "<p>99990 rows × 2 columns</p>\n",
       "</div>"
      ],
      "text/plain": [
       "                                                    text              label\n",
       "0      @ZubearSays Any real nigga isn't letting this ...     ethnicity/race\n",
       "1      @MoradoSkittle @prolifejewess @DAConsult @Kell...  not_cyberbullying\n",
       "2            the only thing i wish, i wish a nigga would     ethnicity/race\n",
       "3      You saudias are not friends of Muslim idiots c...           religion\n",
       "4      @JaydenT2399 @TractorLaw @holmes_gael @erconge...           religion\n",
       "...                                                  ...                ...\n",
       "99985  Thank fuck they didn’t dance remix Peru #LoveI...  not_cyberbullying\n",
       "99986  Sierra Canyon vs. Alemany - California High Sc...  not_cyberbullying\n",
       "99987  @queenbellaxoxo @PontiacMadeDDG @HalleBailey B...      gender/sexual\n",
       "99988                 What you like yo nigga to call you     ethnicity/race\n",
       "99989                 @kirkfranklin Happy CAKE DAY 🌬🎂🎁🎈🎉  not_cyberbullying\n",
       "\n",
       "[99990 rows x 2 columns]"
      ]
     },
     "execution_count": 11,
     "metadata": {},
     "output_type": "execute_result"
    }
   ],
   "source": [
    "data"
   ]
  },
  {
   "cell_type": "code",
   "execution_count": null,
   "metadata": {
    "id": "ZWQ1K4_-i02j"
   },
   "outputs": [],
   "source": []
  },
  {
   "cell_type": "code",
   "execution_count": 12,
   "metadata": {
    "colab": {
     "base_uri": "https://localhost:8080/"
    },
    "id": "jwVQQcLM98-D",
    "outputId": "9067dbc0-c19e-4f1d-d9be-0988f3f147c3"
   },
   "outputs": [
    {
     "name": "stdout",
     "output_type": "stream",
     "text": [
      "This is a sample text with numbers like  and special characters\n"
     ]
    }
   ],
   "source": [
    "import re\n",
    "\n",
    "def remove_special_char(text):\n",
    "    # Define the pattern for punctuation, numbers, and special characters\n",
    "    pattern = r'[^a-zA-Z\\s]'  # This pattern will keep only alphabetic characters and whitespaces\n",
    "\n",
    "    # Use the pattern to remove punctuation, numbers, and special characters\n",
    "    cleaned_text = re.sub(pattern, '', text)\n",
    "\n",
    "    return cleaned_text\n",
    "\n",
    "# Example text\n",
    "text = \"This is a sample text with numbers like 123 and special characters!@#.\"\n",
    "\n",
    "# Remove punctuations, numbers, and special characters\n",
    "cleaned_text = remove_special_char(text)\n",
    "print(cleaned_text)\n"
   ]
  },
  {
   "cell_type": "code",
   "execution_count": 13,
   "metadata": {
    "colab": {
     "base_uri": "https://localhost:8080/"
    },
    "id": "g1gj2gCL987T",
    "outputId": "0c867030-b747-465a-ec06-ce9357d1b5e8"
   },
   "outputs": [
    {
     "name": "stdout",
     "output_type": "stream",
     "text": [
      "Hey , can you send me the report? My username is . Thanks!\n"
     ]
    }
   ],
   "source": [
    "def remove_usernames(text):\n",
    "    # Define the pattern for detecting usernames starting with @\n",
    "    pattern = r'@\\w+'  # Matches @ followed by one or more word characters (\\w)\n",
    "\n",
    "    # Use the pattern to replace usernames with an empty string\n",
    "    cleaned_text = re.sub(pattern, '', text)\n",
    "\n",
    "    return cleaned_text\n",
    "\n",
    "# Example text\n",
    "text = \"Hey @john_doe, can you send me the report? My username is @alice123. Thanks!\"\n",
    "\n",
    "# Remove usernames\n",
    "cleaned_text = remove_usernames(text)\n",
    "print(cleaned_text)\n"
   ]
  },
  {
   "cell_type": "code",
   "execution_count": 14,
   "metadata": {
    "colab": {
     "base_uri": "https://localhost:8080/"
    },
    "id": "z93Mc2MP984s",
    "outputId": "33f7aa7f-48ae-4c0b-a839-09f3c88e1d34"
   },
   "outputs": [
    {
     "name": "stdout",
     "output_type": "stream",
     "text": [
      "Check out this website:  and also visit \n"
     ]
    }
   ],
   "source": [
    "def remove_urls(text):\n",
    "    # Define the pattern for detecting URLs\n",
    "    pattern = r'https?://\\S+|www\\.\\S+'\n",
    "\n",
    "    # Use the pattern to replace URLs with an empty string\n",
    "    cleaned_text = re.sub(pattern, '', text)\n",
    "\n",
    "    return cleaned_text\n",
    "\n",
    "# Example text\n",
    "text = \"Check out this website: https://www.example.com, and also visit http://example.com.\"\n",
    "\n",
    "# Remove URLs\n",
    "cleaned_text = remove_urls(text)\n",
    "print(cleaned_text)\n"
   ]
  },
  {
   "cell_type": "markdown",
   "metadata": {
    "id": "GSngOQ9e7Kbe"
   },
   "source": [
    "### Create a copy of data"
   ]
  },
  {
   "cell_type": "code",
   "execution_count": 15,
   "metadata": {
    "colab": {
     "base_uri": "https://localhost:8080/",
     "height": 206
    },
    "id": "uIhAOaRs982M",
    "outputId": "28a56349-ef86-401d-a5c9-2468a18e330d"
   },
   "outputs": [
    {
     "data": {
      "text/html": [
       "<div>\n",
       "<style scoped>\n",
       "    .dataframe tbody tr th:only-of-type {\n",
       "        vertical-align: middle;\n",
       "    }\n",
       "\n",
       "    .dataframe tbody tr th {\n",
       "        vertical-align: top;\n",
       "    }\n",
       "\n",
       "    .dataframe thead th {\n",
       "        text-align: right;\n",
       "    }\n",
       "</style>\n",
       "<table border=\"1\" class=\"dataframe\">\n",
       "  <thead>\n",
       "    <tr style=\"text-align: right;\">\n",
       "      <th></th>\n",
       "      <th>text</th>\n",
       "      <th>label</th>\n",
       "    </tr>\n",
       "  </thead>\n",
       "  <tbody>\n",
       "    <tr>\n",
       "      <th>0</th>\n",
       "      <td>@ZubearSays Any real nigga isn't letting this ...</td>\n",
       "      <td>ethnicity/race</td>\n",
       "    </tr>\n",
       "    <tr>\n",
       "      <th>1</th>\n",
       "      <td>@MoradoSkittle @prolifejewess @DAConsult @Kell...</td>\n",
       "      <td>not_cyberbullying</td>\n",
       "    </tr>\n",
       "    <tr>\n",
       "      <th>2</th>\n",
       "      <td>the only thing i wish, i wish a nigga would</td>\n",
       "      <td>ethnicity/race</td>\n",
       "    </tr>\n",
       "    <tr>\n",
       "      <th>3</th>\n",
       "      <td>You saudias are not friends of Muslim idiots c...</td>\n",
       "      <td>religion</td>\n",
       "    </tr>\n",
       "    <tr>\n",
       "      <th>4</th>\n",
       "      <td>@JaydenT2399 @TractorLaw @holmes_gael @erconge...</td>\n",
       "      <td>religion</td>\n",
       "    </tr>\n",
       "  </tbody>\n",
       "</table>\n",
       "</div>"
      ],
      "text/plain": [
       "                                                text              label\n",
       "0  @ZubearSays Any real nigga isn't letting this ...     ethnicity/race\n",
       "1  @MoradoSkittle @prolifejewess @DAConsult @Kell...  not_cyberbullying\n",
       "2        the only thing i wish, i wish a nigga would     ethnicity/race\n",
       "3  You saudias are not friends of Muslim idiots c...           religion\n",
       "4  @JaydenT2399 @TractorLaw @holmes_gael @erconge...           religion"
      ]
     },
     "execution_count": 15,
     "metadata": {},
     "output_type": "execute_result"
    }
   ],
   "source": [
    "df = data.copy()\n",
    "df.head()"
   ]
  },
  {
   "cell_type": "markdown",
   "metadata": {
    "id": "AtG3p5JN7enZ"
   },
   "source": [
    "### Removing Usernames"
   ]
  },
  {
   "cell_type": "code",
   "execution_count": 16,
   "metadata": {
    "colab": {
     "base_uri": "https://localhost:8080/",
     "height": 206
    },
    "id": "fR_yvMSt00gP",
    "outputId": "2355013c-aaf8-4366-935b-0f70d50040a4"
   },
   "outputs": [
    {
     "data": {
      "text/html": [
       "<div>\n",
       "<style scoped>\n",
       "    .dataframe tbody tr th:only-of-type {\n",
       "        vertical-align: middle;\n",
       "    }\n",
       "\n",
       "    .dataframe tbody tr th {\n",
       "        vertical-align: top;\n",
       "    }\n",
       "\n",
       "    .dataframe thead th {\n",
       "        text-align: right;\n",
       "    }\n",
       "</style>\n",
       "<table border=\"1\" class=\"dataframe\">\n",
       "  <thead>\n",
       "    <tr style=\"text-align: right;\">\n",
       "      <th></th>\n",
       "      <th>text</th>\n",
       "      <th>label</th>\n",
       "    </tr>\n",
       "  </thead>\n",
       "  <tbody>\n",
       "    <tr>\n",
       "      <th>0</th>\n",
       "      <td>Any real nigga isn't letting this happen.</td>\n",
       "      <td>ethnicity/race</td>\n",
       "    </tr>\n",
       "    <tr>\n",
       "      <th>1</th>\n",
       "      <td>I didn't even mention Mexico, but the US...</td>\n",
       "      <td>not_cyberbullying</td>\n",
       "    </tr>\n",
       "    <tr>\n",
       "      <th>2</th>\n",
       "      <td>the only thing i wish, i wish a nigga would</td>\n",
       "      <td>ethnicity/race</td>\n",
       "    </tr>\n",
       "    <tr>\n",
       "      <th>3</th>\n",
       "      <td>You saudias are not friends of Muslim idiots c...</td>\n",
       "      <td>religion</td>\n",
       "    </tr>\n",
       "    <tr>\n",
       "      <th>4</th>\n",
       "      <td>And yet the MAGA want to do just that. Th...</td>\n",
       "      <td>religion</td>\n",
       "    </tr>\n",
       "  </tbody>\n",
       "</table>\n",
       "</div>"
      ],
      "text/plain": [
       "                                                text              label\n",
       "0          Any real nigga isn't letting this happen.     ethnicity/race\n",
       "1        I didn't even mention Mexico, but the US...  not_cyberbullying\n",
       "2        the only thing i wish, i wish a nigga would     ethnicity/race\n",
       "3  You saudias are not friends of Muslim idiots c...           religion\n",
       "4       And yet the MAGA want to do just that. Th...           religion"
      ]
     },
     "execution_count": 16,
     "metadata": {},
     "output_type": "execute_result"
    }
   ],
   "source": [
    "df['text'] = df['text'].apply(remove_usernames)\n",
    "df.head()"
   ]
  },
  {
   "cell_type": "markdown",
   "metadata": {
    "id": "-Kq6Jo2V7kSH"
   },
   "source": [
    "### Removing Urls/Links"
   ]
  },
  {
   "cell_type": "code",
   "execution_count": 17,
   "metadata": {
    "colab": {
     "base_uri": "https://localhost:8080/",
     "height": 206
    },
    "id": "1eTj71RCnojE",
    "outputId": "3aa261db-6328-40cb-939b-7eb1e614c36c"
   },
   "outputs": [
    {
     "data": {
      "text/html": [
       "<div>\n",
       "<style scoped>\n",
       "    .dataframe tbody tr th:only-of-type {\n",
       "        vertical-align: middle;\n",
       "    }\n",
       "\n",
       "    .dataframe tbody tr th {\n",
       "        vertical-align: top;\n",
       "    }\n",
       "\n",
       "    .dataframe thead th {\n",
       "        text-align: right;\n",
       "    }\n",
       "</style>\n",
       "<table border=\"1\" class=\"dataframe\">\n",
       "  <thead>\n",
       "    <tr style=\"text-align: right;\">\n",
       "      <th></th>\n",
       "      <th>text</th>\n",
       "      <th>label</th>\n",
       "    </tr>\n",
       "  </thead>\n",
       "  <tbody>\n",
       "    <tr>\n",
       "      <th>0</th>\n",
       "      <td>Any real nigga isn't letting this happen.</td>\n",
       "      <td>ethnicity/race</td>\n",
       "    </tr>\n",
       "    <tr>\n",
       "      <th>1</th>\n",
       "      <td>I didn't even mention Mexico, but the US...</td>\n",
       "      <td>not_cyberbullying</td>\n",
       "    </tr>\n",
       "    <tr>\n",
       "      <th>2</th>\n",
       "      <td>the only thing i wish, i wish a nigga would</td>\n",
       "      <td>ethnicity/race</td>\n",
       "    </tr>\n",
       "    <tr>\n",
       "      <th>3</th>\n",
       "      <td>You saudias are not friends of Muslim idiots c...</td>\n",
       "      <td>religion</td>\n",
       "    </tr>\n",
       "    <tr>\n",
       "      <th>4</th>\n",
       "      <td>And yet the MAGA want to do just that. Th...</td>\n",
       "      <td>religion</td>\n",
       "    </tr>\n",
       "  </tbody>\n",
       "</table>\n",
       "</div>"
      ],
      "text/plain": [
       "                                                text              label\n",
       "0          Any real nigga isn't letting this happen.     ethnicity/race\n",
       "1        I didn't even mention Mexico, but the US...  not_cyberbullying\n",
       "2        the only thing i wish, i wish a nigga would     ethnicity/race\n",
       "3  You saudias are not friends of Muslim idiots c...           religion\n",
       "4       And yet the MAGA want to do just that. Th...           religion"
      ]
     },
     "execution_count": 17,
     "metadata": {},
     "output_type": "execute_result"
    }
   ],
   "source": [
    "df['text'] = df['text'].apply(remove_urls)\n",
    "df.head()"
   ]
  },
  {
   "cell_type": "markdown",
   "metadata": {
    "id": "ruG7R5kj7s-3"
   },
   "source": [
    "### Handling Contractions"
   ]
  },
  {
   "cell_type": "code",
   "execution_count": 18,
   "metadata": {
    "colab": {
     "base_uri": "https://localhost:8080/"
    },
    "id": "JZxkb8Cj4eL4",
    "outputId": "0e3fdd9b-8266-4180-c0c2-d078e89a4553"
   },
   "outputs": [
    {
     "name": "stdout",
     "output_type": "stream",
     "text": [
      "I could not believe it.\n"
     ]
    }
   ],
   "source": [
    "import contractions\n",
    "\n",
    "def expansion(text):\n",
    "  expanded_text = contractions.fix(text)\n",
    "  return expanded_text\n",
    "\n",
    "expanded_text = expansion(\"I couldn't believe it.\")\n",
    "print(expanded_text)"
   ]
  },
  {
   "cell_type": "code",
   "execution_count": 19,
   "metadata": {
    "colab": {
     "base_uri": "https://localhost:8080/",
     "height": 206
    },
    "id": "28QW6rZ95_Qk",
    "outputId": "b6234932-5066-49cd-837c-8a7009d7e561"
   },
   "outputs": [
    {
     "data": {
      "text/html": [
       "<div>\n",
       "<style scoped>\n",
       "    .dataframe tbody tr th:only-of-type {\n",
       "        vertical-align: middle;\n",
       "    }\n",
       "\n",
       "    .dataframe tbody tr th {\n",
       "        vertical-align: top;\n",
       "    }\n",
       "\n",
       "    .dataframe thead th {\n",
       "        text-align: right;\n",
       "    }\n",
       "</style>\n",
       "<table border=\"1\" class=\"dataframe\">\n",
       "  <thead>\n",
       "    <tr style=\"text-align: right;\">\n",
       "      <th></th>\n",
       "      <th>text</th>\n",
       "      <th>label</th>\n",
       "    </tr>\n",
       "  </thead>\n",
       "  <tbody>\n",
       "    <tr>\n",
       "      <th>0</th>\n",
       "      <td>Any real nigga is not letting this happen.</td>\n",
       "      <td>ethnicity/race</td>\n",
       "    </tr>\n",
       "    <tr>\n",
       "      <th>1</th>\n",
       "      <td>I did not even mention Mexico, but the U...</td>\n",
       "      <td>not_cyberbullying</td>\n",
       "    </tr>\n",
       "    <tr>\n",
       "      <th>2</th>\n",
       "      <td>the only thing i wish, i wish a nigga would</td>\n",
       "      <td>ethnicity/race</td>\n",
       "    </tr>\n",
       "    <tr>\n",
       "      <th>3</th>\n",
       "      <td>You saudias are not friends of Muslim idiots c...</td>\n",
       "      <td>religion</td>\n",
       "    </tr>\n",
       "    <tr>\n",
       "      <th>4</th>\n",
       "      <td>And yet the MAGA want to do just that. Th...</td>\n",
       "      <td>religion</td>\n",
       "    </tr>\n",
       "  </tbody>\n",
       "</table>\n",
       "</div>"
      ],
      "text/plain": [
       "                                                text              label\n",
       "0         Any real nigga is not letting this happen.     ethnicity/race\n",
       "1        I did not even mention Mexico, but the U...  not_cyberbullying\n",
       "2        the only thing i wish, i wish a nigga would     ethnicity/race\n",
       "3  You saudias are not friends of Muslim idiots c...           religion\n",
       "4       And yet the MAGA want to do just that. Th...           religion"
      ]
     },
     "execution_count": 19,
     "metadata": {},
     "output_type": "execute_result"
    }
   ],
   "source": [
    "df['text'] = df['text'].apply(expansion)\n",
    "df.head()"
   ]
  },
  {
   "cell_type": "markdown",
   "metadata": {
    "id": "qzQNjpNW75tM"
   },
   "source": [
    "### Removing special Characters"
   ]
  },
  {
   "cell_type": "code",
   "execution_count": 20,
   "metadata": {
    "colab": {
     "base_uri": "https://localhost:8080/",
     "height": 206
    },
    "id": "4YtoDeyDnog1",
    "outputId": "368170b5-896a-4e8d-8763-c8bba6b1d02b"
   },
   "outputs": [
    {
     "data": {
      "text/html": [
       "<div>\n",
       "<style scoped>\n",
       "    .dataframe tbody tr th:only-of-type {\n",
       "        vertical-align: middle;\n",
       "    }\n",
       "\n",
       "    .dataframe tbody tr th {\n",
       "        vertical-align: top;\n",
       "    }\n",
       "\n",
       "    .dataframe thead th {\n",
       "        text-align: right;\n",
       "    }\n",
       "</style>\n",
       "<table border=\"1\" class=\"dataframe\">\n",
       "  <thead>\n",
       "    <tr style=\"text-align: right;\">\n",
       "      <th></th>\n",
       "      <th>text</th>\n",
       "      <th>label</th>\n",
       "    </tr>\n",
       "  </thead>\n",
       "  <tbody>\n",
       "    <tr>\n",
       "      <th>0</th>\n",
       "      <td>Any real nigga is not letting this happen</td>\n",
       "      <td>ethnicity/race</td>\n",
       "    </tr>\n",
       "    <tr>\n",
       "      <th>1</th>\n",
       "      <td>I did not even mention Mexico but the US...</td>\n",
       "      <td>not_cyberbullying</td>\n",
       "    </tr>\n",
       "    <tr>\n",
       "      <th>2</th>\n",
       "      <td>the only thing i wish i wish a nigga would</td>\n",
       "      <td>ethnicity/race</td>\n",
       "    </tr>\n",
       "    <tr>\n",
       "      <th>3</th>\n",
       "      <td>You saudias are not friends of Muslim idiots c...</td>\n",
       "      <td>religion</td>\n",
       "    </tr>\n",
       "    <tr>\n",
       "      <th>4</th>\n",
       "      <td>And yet the MAGA want to do just that The...</td>\n",
       "      <td>religion</td>\n",
       "    </tr>\n",
       "  </tbody>\n",
       "</table>\n",
       "</div>"
      ],
      "text/plain": [
       "                                                text              label\n",
       "0          Any real nigga is not letting this happen     ethnicity/race\n",
       "1        I did not even mention Mexico but the US...  not_cyberbullying\n",
       "2         the only thing i wish i wish a nigga would     ethnicity/race\n",
       "3  You saudias are not friends of Muslim idiots c...           religion\n",
       "4       And yet the MAGA want to do just that The...           religion"
      ]
     },
     "execution_count": 20,
     "metadata": {},
     "output_type": "execute_result"
    }
   ],
   "source": [
    "df['text'] = df['text'].apply(remove_special_char)\n",
    "df.head()"
   ]
  },
  {
   "cell_type": "markdown",
   "metadata": {
    "id": "8puheWru8HGu"
   },
   "source": [
    "### Converting the text into small letters"
   ]
  },
  {
   "cell_type": "code",
   "execution_count": 21,
   "metadata": {
    "id": "Oo8kEPUXnoeH"
   },
   "outputs": [],
   "source": [
    "df['text'] = df['text'].str.lower()"
   ]
  },
  {
   "cell_type": "code",
   "execution_count": 22,
   "metadata": {
    "colab": {
     "base_uri": "https://localhost:8080/",
     "height": 363
    },
    "id": "hoy8Wqpbnobx",
    "outputId": "d336e58c-86bc-42ca-eccf-8c5a6a40f7b0"
   },
   "outputs": [
    {
     "data": {
      "text/html": [
       "<div>\n",
       "<style scoped>\n",
       "    .dataframe tbody tr th:only-of-type {\n",
       "        vertical-align: middle;\n",
       "    }\n",
       "\n",
       "    .dataframe tbody tr th {\n",
       "        vertical-align: top;\n",
       "    }\n",
       "\n",
       "    .dataframe thead th {\n",
       "        text-align: right;\n",
       "    }\n",
       "</style>\n",
       "<table border=\"1\" class=\"dataframe\">\n",
       "  <thead>\n",
       "    <tr style=\"text-align: right;\">\n",
       "      <th></th>\n",
       "      <th>text</th>\n",
       "      <th>label</th>\n",
       "    </tr>\n",
       "  </thead>\n",
       "  <tbody>\n",
       "    <tr>\n",
       "      <th>0</th>\n",
       "      <td>any real nigga is not letting this happen</td>\n",
       "      <td>ethnicity/race</td>\n",
       "    </tr>\n",
       "    <tr>\n",
       "      <th>1</th>\n",
       "      <td>i did not even mention mexico but the us...</td>\n",
       "      <td>not_cyberbullying</td>\n",
       "    </tr>\n",
       "    <tr>\n",
       "      <th>2</th>\n",
       "      <td>the only thing i wish i wish a nigga would</td>\n",
       "      <td>ethnicity/race</td>\n",
       "    </tr>\n",
       "    <tr>\n",
       "      <th>3</th>\n",
       "      <td>you saudias are not friends of muslim idiots c...</td>\n",
       "      <td>religion</td>\n",
       "    </tr>\n",
       "    <tr>\n",
       "      <th>4</th>\n",
       "      <td>and yet the maga want to do just that the...</td>\n",
       "      <td>religion</td>\n",
       "    </tr>\n",
       "    <tr>\n",
       "      <th>5</th>\n",
       "      <td>wait its so bad this nigga got rabies</td>\n",
       "      <td>ethnicity/race</td>\n",
       "    </tr>\n",
       "    <tr>\n",
       "      <th>6</th>\n",
       "      <td>a voting machine error in new jersey flipped t...</td>\n",
       "      <td>not_cyberbullying</td>\n",
       "    </tr>\n",
       "    <tr>\n",
       "      <th>7</th>\n",
       "      <td>now in president jokowi the situation is bet...</td>\n",
       "      <td>religion</td>\n",
       "    </tr>\n",
       "    <tr>\n",
       "      <th>8</th>\n",
       "      <td>agreed   i used to tell my history students ...</td>\n",
       "      <td>ethnicity/race</td>\n",
       "    </tr>\n",
       "    <tr>\n",
       "      <th>9</th>\n",
       "      <td>linked in an email sarah you are on a roll wit...</td>\n",
       "      <td>not_cyberbullying</td>\n",
       "    </tr>\n",
       "  </tbody>\n",
       "</table>\n",
       "</div>"
      ],
      "text/plain": [
       "                                                text              label\n",
       "0          any real nigga is not letting this happen     ethnicity/race\n",
       "1        i did not even mention mexico but the us...  not_cyberbullying\n",
       "2         the only thing i wish i wish a nigga would     ethnicity/race\n",
       "3  you saudias are not friends of muslim idiots c...           religion\n",
       "4       and yet the maga want to do just that the...           religion\n",
       "5              wait its so bad this nigga got rabies     ethnicity/race\n",
       "6  a voting machine error in new jersey flipped t...  not_cyberbullying\n",
       "7    now in president jokowi the situation is bet...           religion\n",
       "8    agreed   i used to tell my history students ...     ethnicity/race\n",
       "9  linked in an email sarah you are on a roll wit...  not_cyberbullying"
      ]
     },
     "execution_count": 22,
     "metadata": {},
     "output_type": "execute_result"
    }
   ],
   "source": [
    "df.head(10)"
   ]
  },
  {
   "cell_type": "markdown",
   "metadata": {
    "id": "cTqk6mHp-ywR"
   },
   "source": [
    "## Importing nltk libraries"
   ]
  },
  {
   "cell_type": "code",
   "execution_count": 23,
   "metadata": {
    "colab": {
     "base_uri": "https://localhost:8080/"
    },
    "id": "mbBJV5_M-wzA",
    "outputId": "4d267e12-987a-4ab9-d8cb-146aa086e7d7"
   },
   "outputs": [
    {
     "name": "stderr",
     "output_type": "stream",
     "text": [
      "[nltk_data] Downloading package stopwords to\n",
      "[nltk_data]     C:\\Users\\Aman\\AppData\\Roaming\\nltk_data...\n",
      "[nltk_data]   Package stopwords is already up-to-date!\n",
      "[nltk_data] Downloading package punkt to\n",
      "[nltk_data]     C:\\Users\\Aman\\AppData\\Roaming\\nltk_data...\n",
      "[nltk_data]   Package punkt is already up-to-date!\n"
     ]
    },
    {
     "data": {
      "text/plain": [
       "True"
      ]
     },
     "execution_count": 23,
     "metadata": {},
     "output_type": "execute_result"
    }
   ],
   "source": [
    "import nltk\n",
    "from nltk.corpus import stopwords\n",
    "from nltk.tokenize import word_tokenize\n",
    "nltk.download('stopwords')\n",
    "nltk.download('punkt')"
   ]
  },
  {
   "cell_type": "code",
   "execution_count": null,
   "metadata": {
    "id": "aiBUjkSjGDYU"
   },
   "outputs": [],
   "source": []
  },
  {
   "cell_type": "markdown",
   "metadata": {
    "id": "NoRz06-Q-Azb"
   },
   "source": [
    "### Removing stopwords"
   ]
  },
  {
   "cell_type": "code",
   "execution_count": 24,
   "metadata": {
    "colab": {
     "base_uri": "https://localhost:8080/"
    },
    "id": "u7y8WLDbnoZZ",
    "outputId": "f48069be-c748-43b0-8e6a-403b437b22b6"
   },
   "outputs": [
    {
     "name": "stdout",
     "output_type": "stream",
     "text": [
      "sample sentence , demonstrating removal stop words .\n"
     ]
    }
   ],
   "source": [
    "# Sample text\n",
    "text = \"This is a sample sentence, demonstrating the removal of stop words.\"\n",
    "def remove_stopword(text):\n",
    "    # Tokenize the text\n",
    "    tokens = word_tokenize(text)\n",
    "\n",
    "    # Get English stop words\n",
    "    stop_words = set(stopwords.words('english'))\n",
    "\n",
    "    # Remove stop words\n",
    "    filtered_tokens = [word for word in tokens if word.lower() not in stop_words]\n",
    "\n",
    "    # Join the filtered tokens back into a sentence\n",
    "    filtered_text = ' '.join(filtered_tokens)\n",
    "\n",
    "    return filtered_text\n",
    "\n",
    "filtered_text = remove_stopword(text)\n",
    "print(filtered_text)\n"
   ]
  },
  {
   "cell_type": "code",
   "execution_count": 25,
   "metadata": {
    "colab": {
     "base_uri": "https://localhost:8080/",
     "height": 363
    },
    "id": "jzHlbQsWnoW7",
    "outputId": "c3620e02-5f22-47b9-c897-f2aa33374cf8"
   },
   "outputs": [
    {
     "data": {
      "text/html": [
       "<div>\n",
       "<style scoped>\n",
       "    .dataframe tbody tr th:only-of-type {\n",
       "        vertical-align: middle;\n",
       "    }\n",
       "\n",
       "    .dataframe tbody tr th {\n",
       "        vertical-align: top;\n",
       "    }\n",
       "\n",
       "    .dataframe thead th {\n",
       "        text-align: right;\n",
       "    }\n",
       "</style>\n",
       "<table border=\"1\" class=\"dataframe\">\n",
       "  <thead>\n",
       "    <tr style=\"text-align: right;\">\n",
       "      <th></th>\n",
       "      <th>text</th>\n",
       "      <th>label</th>\n",
       "    </tr>\n",
       "  </thead>\n",
       "  <tbody>\n",
       "    <tr>\n",
       "      <th>0</th>\n",
       "      <td>real nigga letting happen</td>\n",
       "      <td>ethnicity/race</td>\n",
       "    </tr>\n",
       "    <tr>\n",
       "      <th>1</th>\n",
       "      <td>even mention mexico us far safest place earth</td>\n",
       "      <td>not_cyberbullying</td>\n",
       "    </tr>\n",
       "    <tr>\n",
       "      <th>2</th>\n",
       "      <td>thing wish wish nigga would</td>\n",
       "      <td>ethnicity/race</td>\n",
       "    </tr>\n",
       "    <tr>\n",
       "      <th>3</th>\n",
       "      <td>saudias friends muslim idiots cheapless people</td>\n",
       "      <td>religion</td>\n",
       "    </tr>\n",
       "    <tr>\n",
       "      <th>4</th>\n",
       "      <td>yet maga want judah christian muslim believe s...</td>\n",
       "      <td>religion</td>\n",
       "    </tr>\n",
       "    <tr>\n",
       "      <th>5</th>\n",
       "      <td>wait bad nigga got rabies</td>\n",
       "      <td>ethnicity/race</td>\n",
       "    </tr>\n",
       "    <tr>\n",
       "      <th>6</th>\n",
       "      <td>voting machine error new jersey flipped outcom...</td>\n",
       "      <td>not_cyberbullying</td>\n",
       "    </tr>\n",
       "    <tr>\n",
       "      <th>7</th>\n",
       "      <td>president jokowi situation better indonesian c...</td>\n",
       "      <td>religion</td>\n",
       "    </tr>\n",
       "    <tr>\n",
       "      <th>8</th>\n",
       "      <td>agreed used tell history students birth certif...</td>\n",
       "      <td>ethnicity/race</td>\n",
       "    </tr>\n",
       "    <tr>\n",
       "      <th>9</th>\n",
       "      <td>linked email sarah roll career incredible cons...</td>\n",
       "      <td>not_cyberbullying</td>\n",
       "    </tr>\n",
       "  </tbody>\n",
       "</table>\n",
       "</div>"
      ],
      "text/plain": [
       "                                                text              label\n",
       "0                          real nigga letting happen     ethnicity/race\n",
       "1      even mention mexico us far safest place earth  not_cyberbullying\n",
       "2                        thing wish wish nigga would     ethnicity/race\n",
       "3     saudias friends muslim idiots cheapless people           religion\n",
       "4  yet maga want judah christian muslim believe s...           religion\n",
       "5                          wait bad nigga got rabies     ethnicity/race\n",
       "6  voting machine error new jersey flipped outcom...  not_cyberbullying\n",
       "7  president jokowi situation better indonesian c...           religion\n",
       "8  agreed used tell history students birth certif...     ethnicity/race\n",
       "9  linked email sarah roll career incredible cons...  not_cyberbullying"
      ]
     },
     "execution_count": 25,
     "metadata": {},
     "output_type": "execute_result"
    }
   ],
   "source": [
    "df['text'] = df['text'].apply(remove_stopword)\n",
    "df.head(10)"
   ]
  },
  {
   "cell_type": "markdown",
   "metadata": {
    "id": "KNWJUcQzBp7z"
   },
   "source": [
    "## Stemmation and Lemmatization"
   ]
  },
  {
   "cell_type": "code",
   "execution_count": 26,
   "metadata": {
    "colab": {
     "base_uri": "https://localhost:8080/"
    },
    "id": "EOQb8BlLg9v2",
    "outputId": "b5918ec2-547e-427c-b591-8da6b5f0406f"
   },
   "outputs": [
    {
     "name": "stderr",
     "output_type": "stream",
     "text": [
      "[nltk_data] Downloading package wordnet to\n",
      "[nltk_data]     C:\\Users\\Aman\\AppData\\Roaming\\nltk_data...\n",
      "[nltk_data]   Package wordnet is already up-to-date!\n"
     ]
    },
    {
     "data": {
      "text/plain": [
       "True"
      ]
     },
     "execution_count": 26,
     "metadata": {},
     "output_type": "execute_result"
    }
   ],
   "source": [
    "from nltk.stem import PorterStemmer, WordNetLemmatizer\n",
    "nltk.download('wordnet')"
   ]
  },
  {
   "cell_type": "code",
   "execution_count": 27,
   "metadata": {
    "id": "JXvcFNyBnoUE"
   },
   "outputs": [],
   "source": [
    "# Initialize stemmer and lemmatizer\n",
    "stemmer = PorterStemmer()\n",
    "lemmatizer = WordNetLemmatizer()\n",
    "\n",
    "# Function to apply stemming to a text\n",
    "def stem_text(text):\n",
    "    tokens = word_tokenize(text)\n",
    "    stemmed_tokens = [stemmer.stem(token) for token in tokens]\n",
    "    return ' '.join(stemmed_tokens)"
   ]
  },
  {
   "cell_type": "code",
   "execution_count": 28,
   "metadata": {
    "colab": {
     "base_uri": "https://localhost:8080/",
     "height": 363
    },
    "id": "Ci3-hI2KnnhP",
    "outputId": "c215973c-084c-4a6f-e0a6-515a9b963da9"
   },
   "outputs": [
    {
     "data": {
      "text/html": [
       "<div>\n",
       "<style scoped>\n",
       "    .dataframe tbody tr th:only-of-type {\n",
       "        vertical-align: middle;\n",
       "    }\n",
       "\n",
       "    .dataframe tbody tr th {\n",
       "        vertical-align: top;\n",
       "    }\n",
       "\n",
       "    .dataframe thead th {\n",
       "        text-align: right;\n",
       "    }\n",
       "</style>\n",
       "<table border=\"1\" class=\"dataframe\">\n",
       "  <thead>\n",
       "    <tr style=\"text-align: right;\">\n",
       "      <th></th>\n",
       "      <th>text</th>\n",
       "      <th>label</th>\n",
       "      <th>stemmed_text</th>\n",
       "    </tr>\n",
       "  </thead>\n",
       "  <tbody>\n",
       "    <tr>\n",
       "      <th>0</th>\n",
       "      <td>real nigga letting happen</td>\n",
       "      <td>ethnicity/race</td>\n",
       "      <td>real nigga let happen</td>\n",
       "    </tr>\n",
       "    <tr>\n",
       "      <th>1</th>\n",
       "      <td>even mention mexico us far safest place earth</td>\n",
       "      <td>not_cyberbullying</td>\n",
       "      <td>even mention mexico us far safest place earth</td>\n",
       "    </tr>\n",
       "    <tr>\n",
       "      <th>2</th>\n",
       "      <td>thing wish wish nigga would</td>\n",
       "      <td>ethnicity/race</td>\n",
       "      <td>thing wish wish nigga would</td>\n",
       "    </tr>\n",
       "    <tr>\n",
       "      <th>3</th>\n",
       "      <td>saudias friends muslim idiots cheapless people</td>\n",
       "      <td>religion</td>\n",
       "      <td>saudia friend muslim idiot cheapless peopl</td>\n",
       "    </tr>\n",
       "    <tr>\n",
       "      <th>4</th>\n",
       "      <td>yet maga want judah christian muslim believe s...</td>\n",
       "      <td>religion</td>\n",
       "      <td>yet maga want judah christian muslim believ sy...</td>\n",
       "    </tr>\n",
       "    <tr>\n",
       "      <th>5</th>\n",
       "      <td>wait bad nigga got rabies</td>\n",
       "      <td>ethnicity/race</td>\n",
       "      <td>wait bad nigga got rabi</td>\n",
       "    </tr>\n",
       "    <tr>\n",
       "      <th>6</th>\n",
       "      <td>voting machine error new jersey flipped outcom...</td>\n",
       "      <td>not_cyberbullying</td>\n",
       "      <td>vote machin error new jersey flip outcom local...</td>\n",
       "    </tr>\n",
       "    <tr>\n",
       "      <th>7</th>\n",
       "      <td>president jokowi situation better indonesian c...</td>\n",
       "      <td>religion</td>\n",
       "      <td>presid jokowi situat better indonesian chines ...</td>\n",
       "    </tr>\n",
       "    <tr>\n",
       "      <th>8</th>\n",
       "      <td>agreed used tell history students birth certif...</td>\n",
       "      <td>ethnicity/race</td>\n",
       "      <td>agre use tell histori student birth certif say...</td>\n",
       "    </tr>\n",
       "    <tr>\n",
       "      <th>9</th>\n",
       "      <td>linked email sarah roll career incredible cons...</td>\n",
       "      <td>not_cyberbullying</td>\n",
       "      <td>link email sarah roll career incred consid sac...</td>\n",
       "    </tr>\n",
       "  </tbody>\n",
       "</table>\n",
       "</div>"
      ],
      "text/plain": [
       "                                                text              label  \\\n",
       "0                          real nigga letting happen     ethnicity/race   \n",
       "1      even mention mexico us far safest place earth  not_cyberbullying   \n",
       "2                        thing wish wish nigga would     ethnicity/race   \n",
       "3     saudias friends muslim idiots cheapless people           religion   \n",
       "4  yet maga want judah christian muslim believe s...           religion   \n",
       "5                          wait bad nigga got rabies     ethnicity/race   \n",
       "6  voting machine error new jersey flipped outcom...  not_cyberbullying   \n",
       "7  president jokowi situation better indonesian c...           religion   \n",
       "8  agreed used tell history students birth certif...     ethnicity/race   \n",
       "9  linked email sarah roll career incredible cons...  not_cyberbullying   \n",
       "\n",
       "                                        stemmed_text  \n",
       "0                              real nigga let happen  \n",
       "1      even mention mexico us far safest place earth  \n",
       "2                        thing wish wish nigga would  \n",
       "3         saudia friend muslim idiot cheapless peopl  \n",
       "4  yet maga want judah christian muslim believ sy...  \n",
       "5                            wait bad nigga got rabi  \n",
       "6  vote machin error new jersey flip outcom local...  \n",
       "7  presid jokowi situat better indonesian chines ...  \n",
       "8  agre use tell histori student birth certif say...  \n",
       "9  link email sarah roll career incred consid sac...  "
      ]
     },
     "execution_count": 28,
     "metadata": {},
     "output_type": "execute_result"
    }
   ],
   "source": [
    "df['stemmed_text'] = df['text'].apply(stem_text)\n",
    "df.head(10)"
   ]
  },
  {
   "cell_type": "code",
   "execution_count": 29,
   "metadata": {
    "colab": {
     "base_uri": "https://localhost:8080/",
     "height": 423
    },
    "id": "vaCLoLolnndq",
    "outputId": "8ccd4ee0-3bff-4090-ddf6-ab22bbe56ab1"
   },
   "outputs": [
    {
     "data": {
      "text/html": [
       "<div>\n",
       "<style scoped>\n",
       "    .dataframe tbody tr th:only-of-type {\n",
       "        vertical-align: middle;\n",
       "    }\n",
       "\n",
       "    .dataframe tbody tr th {\n",
       "        vertical-align: top;\n",
       "    }\n",
       "\n",
       "    .dataframe thead th {\n",
       "        text-align: right;\n",
       "    }\n",
       "</style>\n",
       "<table border=\"1\" class=\"dataframe\">\n",
       "  <thead>\n",
       "    <tr style=\"text-align: right;\">\n",
       "      <th></th>\n",
       "      <th>label</th>\n",
       "      <th>stemmed_text</th>\n",
       "    </tr>\n",
       "  </thead>\n",
       "  <tbody>\n",
       "    <tr>\n",
       "      <th>0</th>\n",
       "      <td>ethnicity/race</td>\n",
       "      <td>real nigga let happen</td>\n",
       "    </tr>\n",
       "    <tr>\n",
       "      <th>1</th>\n",
       "      <td>not_cyberbullying</td>\n",
       "      <td>even mention mexico us far safest place earth</td>\n",
       "    </tr>\n",
       "    <tr>\n",
       "      <th>2</th>\n",
       "      <td>ethnicity/race</td>\n",
       "      <td>thing wish wish nigga would</td>\n",
       "    </tr>\n",
       "    <tr>\n",
       "      <th>3</th>\n",
       "      <td>religion</td>\n",
       "      <td>saudia friend muslim idiot cheapless peopl</td>\n",
       "    </tr>\n",
       "    <tr>\n",
       "      <th>4</th>\n",
       "      <td>religion</td>\n",
       "      <td>yet maga want judah christian muslim believ sy...</td>\n",
       "    </tr>\n",
       "    <tr>\n",
       "      <th>...</th>\n",
       "      <td>...</td>\n",
       "      <td>...</td>\n",
       "    </tr>\n",
       "    <tr>\n",
       "      <th>99985</th>\n",
       "      <td>not_cyberbullying</td>\n",
       "      <td>thank fuck danc remix peru loveisland</td>\n",
       "    </tr>\n",
       "    <tr>\n",
       "      <th>99986</th>\n",
       "      <td>not_cyberbullying</td>\n",
       "      <td>sierra canyon vs alemani california high schoo...</td>\n",
       "    </tr>\n",
       "    <tr>\n",
       "      <th>99987</th>\n",
       "      <td>gender/sexual</td>\n",
       "      <td>bitch flirt snitch</td>\n",
       "    </tr>\n",
       "    <tr>\n",
       "      <th>99988</th>\n",
       "      <td>ethnicity/race</td>\n",
       "      <td>like yo nigga call</td>\n",
       "    </tr>\n",
       "    <tr>\n",
       "      <th>99989</th>\n",
       "      <td>not_cyberbullying</td>\n",
       "      <td>happi cake day</td>\n",
       "    </tr>\n",
       "  </tbody>\n",
       "</table>\n",
       "<p>99990 rows × 2 columns</p>\n",
       "</div>"
      ],
      "text/plain": [
       "                   label                                       stemmed_text\n",
       "0         ethnicity/race                              real nigga let happen\n",
       "1      not_cyberbullying      even mention mexico us far safest place earth\n",
       "2         ethnicity/race                        thing wish wish nigga would\n",
       "3               religion         saudia friend muslim idiot cheapless peopl\n",
       "4               religion  yet maga want judah christian muslim believ sy...\n",
       "...                  ...                                                ...\n",
       "99985  not_cyberbullying              thank fuck danc remix peru loveisland\n",
       "99986  not_cyberbullying  sierra canyon vs alemani california high schoo...\n",
       "99987      gender/sexual                                 bitch flirt snitch\n",
       "99988     ethnicity/race                                 like yo nigga call\n",
       "99989  not_cyberbullying                                     happi cake day\n",
       "\n",
       "[99990 rows x 2 columns]"
      ]
     },
     "execution_count": 29,
     "metadata": {},
     "output_type": "execute_result"
    }
   ],
   "source": [
    "datatable = df[['label','stemmed_text']]\n",
    "datatable"
   ]
  },
  {
   "cell_type": "markdown",
   "metadata": {
    "id": "6fwHDm5nvr-f"
   },
   "source": [
    "# Building Models"
   ]
  },
  {
   "cell_type": "code",
   "execution_count": null,
   "metadata": {
    "id": "7zlDadMPwhxi"
   },
   "outputs": [],
   "source": []
  },
  {
   "cell_type": "markdown",
   "metadata": {
    "id": "ANglZLYaEREs"
   },
   "source": [
    "### Support Vector Classifier"
   ]
  },
  {
   "cell_type": "code",
   "execution_count": 30,
   "metadata": {
    "id": "eRQNKoclnnOV"
   },
   "outputs": [],
   "source": [
    "import pandas as pd\n",
    "from sklearn.model_selection import train_test_split\n",
    "from sklearn.feature_extraction.text import TfidfVectorizer\n",
    "from sklearn.pipeline import Pipeline\n",
    "from sklearn.svm import SVC\n",
    "from sklearn.metrics import classification_report\n",
    "from sklearn.metrics import accuracy_score, precision_score, recall_score, f1_score"
   ]
  },
  {
   "cell_type": "code",
   "execution_count": 31,
   "metadata": {
    "id": "Tt03u4f9NyFA"
   },
   "outputs": [],
   "source": [
    "from sklearn.metrics import roc_curve, auc"
   ]
  },
  {
   "cell_type": "code",
   "execution_count": 32,
   "metadata": {
    "id": "Her2wBGcnnHJ"
   },
   "outputs": [],
   "source": [
    "X = datatable['stemmed_text']  # Features\n",
    "y = datatable['label']  # Target variable\n",
    "\n",
    "# Step 2: Split the data into training and test sets\n",
    "X_train, X_test, y_train, y_test = train_test_split(X, y,\n",
    "                                                  test_size=0.25, random_state=50)"
   ]
  },
  {
   "cell_type": "code",
   "execution_count": 35,
   "metadata": {
    "colab": {
     "base_uri": "https://localhost:8080/"
    },
    "id": "VELRUoALfnxO",
    "outputId": "211a6d70-ec37-450a-f587-55685f6d9a2e"
   },
   "outputs": [
    {
     "name": "stdout",
     "output_type": "stream",
     "text": [
      "                   precision    recall  f1-score   support\n",
      "\n",
      "   ethnicity/race       0.99      1.00      0.99      4293\n",
      "    gender/sexual       1.00      1.00      1.00      4246\n",
      "not_cyberbullying       0.99      1.00      1.00     12386\n",
      "         religion       1.00      0.98      0.99      4073\n",
      "\n",
      "         accuracy                           0.99     24998\n",
      "        macro avg       1.00      0.99      0.99     24998\n",
      "     weighted avg       0.99      0.99      0.99     24998\n",
      "\n"
     ]
    }
   ],
   "source": [
    "# Define and train the model pipeline\n",
    "SVC_model_pipeline = Pipeline([\n",
    "    ('tfidf', TfidfVectorizer()),  # Convert text to TF-IDF vectors\n",
    "    ('clf', SVC(kernel='linear'))  # Support Vector Classifier\n",
    "])\n",
    "SVC_model_pipeline.fit(X_train, y_train)\n",
    "\n",
    "# Evaluate the model\n",
    "SVC_y_pred = SVC_model_pipeline.predict(X_test)\n",
    "print(classification_report(y_test, SVC_y_pred))"
   ]
  },
  {
   "cell_type": "code",
   "execution_count": 36,
   "metadata": {
    "colab": {
     "base_uri": "https://localhost:8080/"
    },
    "id": "TQaS77TC5vt4",
    "outputId": "384f61bc-7161-4f63-9e22-5b7c54d57b8d"
   },
   "outputs": [
    {
     "name": "stdout",
     "output_type": "stream",
     "text": [
      "Accuracy:  0.9948795903672294\n",
      "Precision: 0.9948795903672294\n",
      "Recall: 0.9948795903672294\n",
      "F1 Score: 0.9948795903672294\n"
     ]
    }
   ],
   "source": [
    "# Calculate accuracy\n",
    "SVM_acc = accuracy_score(y_test,SVC_y_pred)\n",
    "\n",
    "# Calculate precision\n",
    "SVM_precision = precision_score(y_test, SVC_y_pred,average='micro')\n",
    "\n",
    "# Calculate recall\n",
    "SVM_recall = recall_score(y_test, SVC_y_pred,average='micro')\n",
    "\n",
    "# Calculate F1 score\n",
    "SVM_f1 = f1_score(y_test, SVC_y_pred,average='micro')\n",
    "\n",
    "print(\"Accuracy: \", SVM_acc)\n",
    "print(\"Precision:\", SVM_precision)\n",
    "print(\"Recall:\", SVM_recall)\n",
    "print(\"F1 Score:\", SVM_f1)\n"
   ]
  },
  {
   "cell_type": "markdown",
   "metadata": {
    "id": "WqI_NLQ9ymWb"
   },
   "source": []
  },
  {
   "cell_type": "code",
   "execution_count": 37,
   "metadata": {
    "colab": {
     "base_uri": "https://localhost:8080/"
    },
    "id": "zYlw9uPX1WJv",
    "outputId": "c86b875f-9e20-4a3c-e3fc-ec213804035c"
   },
   "outputs": [
    {
     "data": {
      "text/plain": [
       "array(['not_cyberbullying'], dtype=object)"
      ]
     },
     "execution_count": 37,
     "metadata": {},
     "output_type": "execute_result"
    }
   ],
   "source": [
    "SVC_model_pipeline.predict([\"A black guy is not meant to be in the same coach as we are.\"])"
   ]
  },
  {
   "cell_type": "markdown",
   "metadata": {
    "id": "XtdimNt5Egy1"
   },
   "source": [
    "### Random Forest Classifier"
   ]
  },
  {
   "cell_type": "code",
   "execution_count": 38,
   "metadata": {
    "id": "Qnl7pmK600jE"
   },
   "outputs": [],
   "source": [
    "from sklearn.ensemble import RandomForestClassifier"
   ]
  },
  {
   "cell_type": "code",
   "execution_count": 40,
   "metadata": {
    "colab": {
     "base_uri": "https://localhost:8080/"
    },
    "id": "Wcnw0SXN00ly",
    "outputId": "0ab2a6e9-4fc1-4bda-8236-d643cb744b25"
   },
   "outputs": [
    {
     "name": "stdout",
     "output_type": "stream",
     "text": [
      "                   precision    recall  f1-score   support\n",
      "\n",
      "   ethnicity/race       0.99      0.97      0.98      4293\n",
      "    gender/sexual       0.99      0.97      0.98      4246\n",
      "not_cyberbullying       0.98      1.00      0.99     12386\n",
      "         religion       0.99      0.96      0.98      4073\n",
      "\n",
      "         accuracy                           0.98     24998\n",
      "        macro avg       0.99      0.97      0.98     24998\n",
      "     weighted avg       0.98      0.98      0.98     24998\n",
      "\n"
     ]
    }
   ],
   "source": [
    "RF_model_pipeline = Pipeline([\n",
    "    ('tfidf', TfidfVectorizer()),  # Convert text to TF-IDF vectors\n",
    "    ('clf', RandomForestClassifier(n_estimators=10, random_state=30))  # Random Forest Classifier\n",
    "])\n",
    "RF_model_pipeline.fit(X_train, y_train)\n",
    "\n",
    "# Step 4: Evaluate the model\n",
    "RF_y_pred = RF_model_pipeline.predict(X_test)\n",
    "print(classification_report(y_test, RF_y_pred))"
   ]
  },
  {
   "cell_type": "code",
   "execution_count": 1,
   "metadata": {
    "colab": {
     "base_uri": "https://localhost:8080/",
     "height": 332
    },
    "id": "S4JjU6Qmps60",
    "outputId": "56ccc853-7bc3-4c1d-b4b6-a045d2f95e59"
   },
   "outputs": [],
   "source": [
    "import tkinter as tk\n",
    "\n",
    "def send_message():\n",
    "    message = message_entry.get()\n",
    "    if message:\n",
    "        chat_display.config(state=tk.NORMAL)\n",
    "        if \"not\" in message:\n",
    "            chat_display.insert(tk.END, \"You: \" + message + \"\\n\", \"red\")\n",
    "        else:\n",
    "            chat_display.insert(tk.END, \"You: \" + message + \"\\n\")\n",
    "        chat_display.config(state=tk.DISABLED)\n",
    "        message_entry.delete(0, tk.END)\n",
    "\n",
    "def receive_message():\n",
    "    message = \"Hello! How can I assist you?\"\n",
    "    chat_display.config(state=tk.NORMAL)\n",
    "    if \"not\" in message:\n",
    "        chat_display.insert(tk.END, \"Bot: \" + message + \"\\n\", \"red\")\n",
    "    else:\n",
    "        chat_display.insert(tk.END, \"Bot: \" + message + \"\\n\")\n",
    "    chat_display.config(state=tk.DISABLED)\n",
    "\n",
    "root = tk.Tk()\n",
    "root.title(\"Simple Messaging Interface\")\n",
    "\n",
    "chat_display = tk.Text(root, height=20, width=50)\n",
    "chat_display.config(state=tk.DISABLED)\n",
    "chat_display.pack(pady=10)\n",
    "\n",
    "message_entry = tk.Entry(root, width=50)\n",
    "message_entry.pack(pady=5)\n",
    "\n",
    "send_button = tk.Button(root, text=\"Send\", command=send_message)\n",
    "send_button.pack(pady=5)\n",
    "\n",
    "# Define the \"red\" tag style\n",
    "chat_display.tag_config(\"red\", foreground=\"red\")\n",
    "\n",
    "receive_message()\n",
    "\n",
    "root.mainloop()\n"
   ]
  },
  {
   "cell_type": "code",
   "execution_count": null,
   "metadata": {
    "id": "lRrDg35IpsuA"
   },
   "outputs": [],
   "source": []
  },
  {
   "cell_type": "code",
   "execution_count": 41,
   "metadata": {
    "colab": {
     "base_uri": "https://localhost:8080/"
    },
    "id": "lTjVh4KnrntH",
    "outputId": "49e6b22f-a9ed-4ceb-d8f2-f797d77799a6"
   },
   "outputs": [
    {
     "name": "stdout",
     "output_type": "stream",
     "text": [
      "Accuracy:  0.9819185534842787\n",
      "Precision: 0.9819185534842787\n",
      "Recall: 0.9819185534842787\n",
      "F1 Score: 0.9819185534842787\n"
     ]
    }
   ],
   "source": [
    "# Calculate accuracy\n",
    "RF_acc = accuracy_score(y_test,RF_y_pred)\n",
    "\n",
    "# Calculate precision\n",
    "RF_precision = precision_score(y_test, RF_y_pred,average='micro')\n",
    "\n",
    "# Calculate recall\n",
    "RF_recall = recall_score(y_test, RF_y_pred,average='micro')\n",
    "\n",
    "# Calculate F1 score\n",
    "RF_f1 = f1_score(y_test, RF_y_pred,average='micro')\n",
    "\n",
    "print(\"Accuracy: \", RF_acc)\n",
    "print(\"Precision:\", RF_precision)\n",
    "print(\"Recall:\", RF_recall)\n",
    "print(\"F1 Score:\", RF_f1)\n"
   ]
  },
  {
   "cell_type": "markdown",
   "metadata": {
    "id": "CuRy6VTWEvAM"
   },
   "source": [
    "### KNN"
   ]
  },
  {
   "cell_type": "code",
   "execution_count": null,
   "metadata": {
    "id": "ChgFYG1g8i3d"
   },
   "outputs": [],
   "source": []
  },
  {
   "cell_type": "code",
   "execution_count": null,
   "metadata": {
    "id": "i3VFi4-Ut9dg"
   },
   "outputs": [],
   "source": [
    "from sklearn.neighbors import KNeighborsClassifier"
   ]
  },
  {
   "cell_type": "code",
   "execution_count": null,
   "metadata": {
    "colab": {
     "base_uri": "https://localhost:8080/"
    },
    "id": "kaMKAYIhtyl0",
    "outputId": "62054dfe-effc-4e3f-a901-05d1f37c2bc1"
   },
   "outputs": [
    {
     "name": "stdout",
     "output_type": "stream",
     "text": [
      "                   precision    recall  f1-score   support\n",
      "\n",
      "   ethnicity/race       0.96      0.75      0.84      4293\n",
      "    gender/sexual       0.96      0.58      0.72      4246\n",
      "not_cyberbullying       0.75      0.99      0.85     12386\n",
      "         religion       0.97      0.68      0.80      4073\n",
      "\n",
      "         accuracy                           0.83     24998\n",
      "        macro avg       0.91      0.75      0.80     24998\n",
      "     weighted avg       0.86      0.83      0.82     24998\n",
      "\n"
     ]
    }
   ],
   "source": [
    "KNN_model_pipeline = Pipeline([\n",
    "    ('tfidf', TfidfVectorizer()),  # Convert text to TF-IDF vectors\n",
    "    ('clf', KNeighborsClassifier(n_neighbors=int((datatable.shape[0])**(0.5))))  # Support Vector Classifier\n",
    "])\n",
    "KNN_model_pipeline.fit(X_train, y_train)\n",
    "\n",
    "# Step 4: Evaluate the model\n",
    "KNN_y_pred = KNN_model_pipeline.predict(X_test)\n",
    "print(classification_report(y_test, KNN_y_pred))"
   ]
  },
  {
   "cell_type": "code",
   "execution_count": null,
   "metadata": {
    "colab": {
     "base_uri": "https://localhost:8080/"
    },
    "id": "WU9QUcQdsNhn",
    "outputId": "31ee2443-e24f-46e1-f9cc-1a2404069bfe"
   },
   "outputs": [
    {
     "name": "stdout",
     "output_type": "stream",
     "text": [
      "Accuracy:  0.8262260980878471\n",
      "Precision: 0.8262260980878471\n",
      "Recall: 0.8262260980878471\n",
      "F1 Score: 0.8262260980878471\n"
     ]
    }
   ],
   "source": [
    "# Calculate accuracy\n",
    "KNN_acc = accuracy_score(y_test,KNN_y_pred)\n",
    "\n",
    "# Calculate precision\n",
    "KNN_precision = precision_score(y_test, KNN_y_pred,average='micro')\n",
    "\n",
    "# Calculate recall\n",
    "KNN_recall = recall_score(y_test, KNN_y_pred,average='micro')\n",
    "\n",
    "# Calculate F1 score\n",
    "KNN_f1 = f1_score(y_test, KNN_y_pred,average='micro')\n",
    "\n",
    "print(\"Accuracy: \", KNN_acc)\n",
    "print(\"Precision:\", KNN_precision)\n",
    "print(\"Recall:\", KNN_recall)\n",
    "print(\"F1 Score:\", KNN_f1)\n"
   ]
  },
  {
   "cell_type": "markdown",
   "metadata": {
    "id": "iGYW7xRLE6bK"
   },
   "source": [
    "### Naive Bayes"
   ]
  },
  {
   "cell_type": "code",
   "execution_count": null,
   "metadata": {
    "id": "G8tewCTctzmD"
   },
   "outputs": [],
   "source": [
    "from sklearn.naive_bayes import MultinomialNB"
   ]
  },
  {
   "cell_type": "code",
   "execution_count": null,
   "metadata": {
    "colab": {
     "base_uri": "https://localhost:8080/"
    },
    "id": "cGMrmu4Ntzy5",
    "outputId": "9e78a053-f3ad-491a-fdc2-fe8345765ba5"
   },
   "outputs": [
    {
     "name": "stdout",
     "output_type": "stream",
     "text": [
      "                   precision    recall  f1-score   support\n",
      "\n",
      "   ethnicity/race       0.88      0.77      0.82      4293\n",
      "    gender/sexual       0.98      0.56      0.71      4246\n",
      "not_cyberbullying       0.83      0.99      0.90     12386\n",
      "         religion       0.93      0.92      0.93      4073\n",
      "\n",
      "         accuracy                           0.87     24998\n",
      "        macro avg       0.91      0.81      0.84     24998\n",
      "     weighted avg       0.88      0.87      0.86     24998\n",
      "\n"
     ]
    }
   ],
   "source": [
    "NB_model_pipeline = Pipeline([\n",
    "    ('tfidf', TfidfVectorizer()),  # Convert text to TF-IDF vectors\n",
    "    ('clf', MultinomialNB())  # Naive Bayes\n",
    "])\n",
    "NB_model_pipeline.fit(X_train, y_train)\n",
    "\n",
    "# Step 4: Evaluate the model\n",
    "NB_y_pred = model_pipeline.predict(X_test)\n",
    "print(classification_report(y_test, NB_y_pred))\n",
    "\n"
   ]
  },
  {
   "cell_type": "code",
   "execution_count": null,
   "metadata": {
    "colab": {
     "base_uri": "https://localhost:8080/"
    },
    "id": "iPDiONzYsRbG",
    "outputId": "985142d3-416e-47e2-fd37-325e52dedb22"
   },
   "outputs": [
    {
     "name": "stdout",
     "output_type": "stream",
     "text": [
      "Accuracy:  0.8671493719497559\n",
      "Precision: 0.8671493719497559\n",
      "Recall: 0.8671493719497559\n",
      "F1 Score: 0.8671493719497559\n"
     ]
    }
   ],
   "source": [
    "# Calculate accuracy\n",
    "NB_acc = accuracy_score(y_test,NB_y_pred)\n",
    "\n",
    "# Calculate precision\n",
    "NB_precision = precision_score(y_test, NB_y_pred,average='micro')\n",
    "\n",
    "# Calculate recall\n",
    "NB_recall = recall_score(y_test, NB_y_pred,average='micro')\n",
    "\n",
    "# Calculate F1 score\n",
    "NB_f1 = f1_score(y_test, NB_y_pred,average='micro')\n",
    "\n",
    "print(\"Accuracy: \", NB_acc)\n",
    "print(\"Precision:\", NB_precision)\n",
    "print(\"Recall:\", NB_recall)\n",
    "print(\"F1 Score:\", NB_f1)\n"
   ]
  },
  {
   "cell_type": "markdown",
   "metadata": {},
   "source": [
    "# GUI INTEGRATED"
   ]
  },
  {
   "cell_type": "markdown",
   "metadata": {
    "id": "a5R-hq2BFM33"
   },
   "source": [
    "### Decision Tree"
   ]
  },
  {
   "cell_type": "code",
   "execution_count": 33,
   "metadata": {
    "id": "gHnEqJWFIHLw"
   },
   "outputs": [],
   "source": [
    "from sklearn.tree import DecisionTreeClassifier"
   ]
  },
  {
   "cell_type": "code",
   "execution_count": 34,
   "metadata": {
    "colab": {
     "base_uri": "https://localhost:8080/"
    },
    "id": "47_RbBzYt0E9",
    "outputId": "b5d34fa6-455e-4115-e5dd-a3fb947374c6"
   },
   "outputs": [
    {
     "name": "stdout",
     "output_type": "stream",
     "text": [
      "                   precision    recall  f1-score   support\n",
      "\n",
      "   ethnicity/race       1.00      0.94      0.97      4293\n",
      "    gender/sexual       1.00      1.00      1.00      4246\n",
      "not_cyberbullying       0.95      1.00      0.98     12386\n",
      "         religion       1.00      0.90      0.95      4073\n",
      "\n",
      "         accuracy                           0.97     24998\n",
      "        macro avg       0.99      0.96      0.97     24998\n",
      "     weighted avg       0.98      0.97      0.97     24998\n",
      "\n"
     ]
    }
   ],
   "source": [
    "DT_model_pipeline = Pipeline([\n",
    "    ('tfidf', TfidfVectorizer()),  # Convert text to TF-IDF vectors\n",
    "    ('clf', DecisionTreeClassifier(criterion='gini',max_depth=8))  # Multinomial LogisticRegression\n",
    "])\n",
    "DT_model_pipeline.fit(X_train, y_train)\n",
    "\n",
    "# Step 4: Evaluate the model\n",
    "DT_y_pred = DT_model_pipeline.predict(X_test)\n",
    "print(classification_report(y_test, DT_y_pred))"
   ]
  },
  {
   "cell_type": "code",
   "execution_count": 35,
   "metadata": {
    "colab": {
     "base_uri": "https://localhost:8080/"
    },
    "id": "mlhQcPzatHQN",
    "outputId": "4144177e-6dc7-4fac-d43c-168b49ecd8dc"
   },
   "outputs": [
    {
     "name": "stdout",
     "output_type": "stream",
     "text": [
      "Accuracy:  0.9741579326346108\n",
      "Precision: 0.9741579326346108\n",
      "Recall: 0.9741579326346108\n",
      "F1 Score: 0.9741579326346108\n"
     ]
    }
   ],
   "source": [
    "# Calculate accuracy\n",
    "DT_acc = accuracy_score(y_test,DT_y_pred)\n",
    "\n",
    "# Calculate precision\n",
    "DT_precision = precision_score(y_test, DT_y_pred,average='micro')\n",
    "\n",
    "# Calculate recall\n",
    "DT_recall = recall_score(y_test, DT_y_pred,average='micro')\n",
    "\n",
    "# Calculate F1 score\n",
    "DT_f1 = f1_score(y_test, DT_y_pred,average='micro')\n",
    "\n",
    "print(\"Accuracy: \", DT_acc)\n",
    "print(\"Precision:\", DT_precision)\n",
    "print(\"Recall:\", DT_recall)\n",
    "print(\"F1 Score:\", DT_f1)\n"
   ]
  },
  {
   "cell_type": "code",
   "execution_count": null,
   "metadata": {
    "id": "Oz67hjChplII"
   },
   "outputs": [],
   "source": []
  },
  {
   "cell_type": "code",
   "execution_count": 36,
   "metadata": {
    "id": "NXhlWMEgplGO"
   },
   "outputs": [],
   "source": [
    "prediction = DT_model_pipeline.predict(\n",
    "    [\"A black guy is not meant to be in the same coach as we are.\"])"
   ]
  },
  {
   "cell_type": "code",
   "execution_count": 37,
   "metadata": {
    "id": "OirvHcCPplBm",
    "scrolled": true
   },
   "outputs": [
    {
     "data": {
      "text/plain": [
       "'not_cyberbullying'"
      ]
     },
     "execution_count": 37,
     "metadata": {},
     "output_type": "execute_result"
    }
   ],
   "source": [
    "result = prediction[0]\n",
    "result"
   ]
  },
  {
   "cell_type": "code",
   "execution_count": 39,
   "metadata": {},
   "outputs": [
    {
     "name": "stdout",
     "output_type": "stream",
     "text": [
      "good guy send link\n"
     ]
    }
   ],
   "source": [
    "# fucntion for cleaning the data fed for prediction\n",
    "def data_clean(data):\n",
    "    data = remove_usernames(data)\n",
    "    data = remove_urls(data)\n",
    "    data = contractions.fix(data)\n",
    "    data = remove_special_char(data)\n",
    "    data = data.lower()\n",
    "    data = remove_stopword(data)\n",
    "    data = stem_text(data)\n",
    "    \n",
    "    return data\n",
    "\n",
    "data = \"these aren't Good Guys, Sending The Link https://www.google.com\"\n",
    "print(data_clean(data))"
   ]
  },
  {
   "cell_type": "code",
   "execution_count": null,
   "metadata": {},
   "outputs": [],
   "source": []
  },
  {
   "cell_type": "code",
   "execution_count": null,
   "metadata": {},
   "outputs": [],
   "source": []
  },
  {
   "cell_type": "code",
   "execution_count": null,
   "metadata": {},
   "outputs": [],
   "source": []
  },
  {
   "cell_type": "code",
   "execution_count": 46,
   "metadata": {
    "id": "V7iv8TcPpk9C"
   },
   "outputs": [],
   "source": [
    "import tkinter as tk\n",
    "\n",
    "def send_message():\n",
    "    message = message_entry.get()\n",
    "    data = message\n",
    "    message = data_clean(message)\n",
    "    prediction = DT_model_pipeline.predict([message])\n",
    "    result = prediction[0]\n",
    "    if result:\n",
    "        chat_display.config(state=tk.NORMAL)\n",
    "        if result in ['ethnicity/race', 'religion', 'gender/sexual']:\n",
    "            chat_display.insert(tk.END, \"You: \" + data + \"\\n\", \"red\")\n",
    "        else:\n",
    "            chat_display.insert(tk.END, \"You: \" + data + \"\\n\")\n",
    "        chat_display.config(state=tk.DISABLED)\n",
    "        message_entry.delete(0, tk.END)\n",
    "\n",
    "def receive_message():\n",
    "    message = \"Hello! How can I assist you?\"\n",
    "    chat_display.config(state=tk.NORMAL)\n",
    "    if \"not\" in message:\n",
    "        chat_display.insert(tk.END, \"Bot: \" + message + \"\\n\", \"red\")\n",
    "    else:\n",
    "        chat_display.insert(tk.END, \"Bot: \" + message + \"\\n\")\n",
    "    chat_display.config(state=tk.DISABLED)\n",
    "\n",
    "root = tk.Tk()\n",
    "root.title(\"Simple Messaging Interface\")\n",
    "\n",
    "chat_display = tk.Text(root, height=20, width=50)\n",
    "chat_display.config(state=tk.DISABLED)\n",
    "chat_display.pack(pady=10)\n",
    "\n",
    "message_entry = tk.Entry(root, width=50)\n",
    "message_entry.pack(pady=5)\n",
    "\n",
    "send_button = tk.Button(root, text=\"Send\", command=send_message)\n",
    "send_button.pack(pady=5)\n",
    "\n",
    "# Define the \"red\" tag style\n",
    "chat_display.tag_config(\"red\", foreground=\"red\")\n",
    "\n",
    "receive_message()\n",
    "\n",
    "root.mainloop()\n"
   ]
  },
  {
   "cell_type": "code",
   "execution_count": null,
   "metadata": {
    "id": "qL3Jla9npk2E"
   },
   "outputs": [],
   "source": []
  },
  {
   "cell_type": "code",
   "execution_count": null,
   "metadata": {},
   "outputs": [],
   "source": []
  },
  {
   "cell_type": "code",
   "execution_count": null,
   "metadata": {},
   "outputs": [],
   "source": []
  },
  {
   "cell_type": "code",
   "execution_count": null,
   "metadata": {},
   "outputs": [],
   "source": []
  },
  {
   "cell_type": "markdown",
   "metadata": {
    "id": "vWHp0yFnxR82"
   },
   "source": [
    "## Visualization"
   ]
  },
  {
   "cell_type": "code",
   "execution_count": null,
   "metadata": {
    "id": "Dtp8M4CnuerF"
   },
   "outputs": [],
   "source": [
    "accuracy_list = {\"SVM\":SVM_acc,\"RF\":RF_acc,\"KNN\":KNN_acc,\"NB\":NB_acc,\"DT\":DT_acc}"
   ]
  },
  {
   "cell_type": "code",
   "execution_count": null,
   "metadata": {
    "colab": {
     "base_uri": "https://localhost:8080/"
    },
    "id": "M5vsmwuZ0-cg",
    "outputId": "cba4866c-36e1-4fd4-c9b1-0964c6290d7e"
   },
   "outputs": [
    {
     "name": "stdout",
     "output_type": "stream",
     "text": [
      "[99.48795903672294, 98.19185534842786, 82.6226098087847, 86.71493719497559, 97.41579326346108]\n"
     ]
    }
   ],
   "source": [
    "accuracy = list(map(lambda x: x*100, accuracy_list.values()))\n",
    "\n",
    "print(accuracy)"
   ]
  },
  {
   "cell_type": "code",
   "execution_count": null,
   "metadata": {
    "colab": {
     "base_uri": "https://localhost:8080/",
     "height": 333
    },
    "id": "mTkCe4MSueof",
    "outputId": "3fd0f5a5-364a-4942-e273-f24b51f4899f"
   },
   "outputs": [
    {
     "data": {
      "image/png": "[encoded data removed]",
      "text/plain": [
       "<Figure size 400x300 with 1 Axes>"
      ]
     },
     "metadata": {},
     "output_type": "display_data"
    }
   ],
   "source": [
    "# Plotting the bar chart\n",
    "plt.figure(figsize=(4,3))\n",
    "plt.bar(accuracy_list.keys(), accuracy,color=['red','green','blue','yellow','pink'],width= 0.3,align='center')\n",
    "\n",
    "# Adding labels and title\n",
    "plt.xlabel(\"Models\")\n",
    "plt.ylabel('Accuracy')\n",
    "plt.title('Models Accuracy')\n",
    "\n",
    "# Display the chart\n",
    "plt.show()\n"
   ]
  },
  {
   "cell_type": "code",
   "execution_count": null,
   "metadata": {
    "colab": {
     "base_uri": "https://localhost:8080/",
     "height": 333
    },
    "id": "bnSr10AFuemC",
    "outputId": "92f9e6a1-d05d-49c5-c584-e2b01022d5c9"
   },
   "outputs": [
    {
     "data": {
      "image/png": "[encoded data removed]",
      "text/plain": [
       "<Figure size 400x300 with 1 Axes>"
      ]
     },
     "metadata": {},
     "output_type": "display_data"
    }
   ],
   "source": [
    "# Visualizing Precision\n",
    "precision_list = {\"SVM\":SVM_precision,\"RF\":RF_precision,\"KNN\":KNN_precision,\"NB\":NB_precision,\"DT\":DT_precision}\n",
    "precision = list(map(lambda x: x*100, precision_list.values()))\n",
    "# Plotting the bar chart\n",
    "plt.figure(figsize=(4,3))\n",
    "plt.bar(precision_list.keys(), precision,color=['red','green','blue','yellow','pink'],width= 0.3,align='center')\n",
    "\n",
    "# Adding labels and title\n",
    "plt.xlabel(\"Models\")\n",
    "plt.ylabel('Precision')\n",
    "plt.title('Models Precision')\n",
    "\n",
    "# Display the chart\n",
    "plt.show()"
   ]
  },
  {
   "cell_type": "code",
   "execution_count": null,
   "metadata": {
    "colab": {
     "base_uri": "https://localhost:8080/",
     "height": 333
    },
    "id": "ebJuliXUuejU",
    "outputId": "a6ac579c-0bc9-49a9-e9c4-33edd936ee83"
   },
   "outputs": [
    {
     "data": {
      "image/png": "[encoded data removed]",
      "text/plain": [
       "<Figure size 400x300 with 1 Axes>"
      ]
     },
     "metadata": {},
     "output_type": "display_data"
    }
   ],
   "source": [
    "# Visualizing Recall\n",
    "recall_list = {\"SVM\":SVM_recall,\"RF\":RF_recall,\"KNN\":KNN_recall,\"NB\":NB_recall,\"DT\":DT_recall}\n",
    "recall = list(map(lambda x: x*100, recall_list.values()))\n",
    "# Plotting the bar chart\n",
    "plt.figure(figsize=(4,3))\n",
    "plt.bar(recall_list.keys(), recall,color=['red','green','blue','yellow','pink'],width= 0.3,align='center')\n",
    "\n",
    "# Adding labels and title\n",
    "plt.xlabel(\"Models\")\n",
    "plt.ylabel('Recall')\n",
    "plt.title('Models Recall')\n",
    "\n",
    "# Display the chart\n",
    "plt.show()"
   ]
  },
  {
   "cell_type": "code",
   "execution_count": null,
   "metadata": {
    "colab": {
     "base_uri": "https://localhost:8080/",
     "height": 333
    },
    "id": "_N0_D2pfueg1",
    "outputId": "9560e433-c5a5-4dc9-e372-cdb5d6304e22"
   },
   "outputs": [
    {
     "data": {
      "image/png": "[encoded data removed]",
      "text/plain": [
       "<Figure size 400x300 with 1 Axes>"
      ]
     },
     "metadata": {},
     "output_type": "display_data"
    }
   ],
   "source": [
    "# Visualizing F1_Score\n",
    "\n",
    "f1_list = {\"SVM\":SVM_f1,\"RF\":RF_f1,\"KNN\":KNN_f1,\"NB\":NB_f1,\"DT\":DT_f1}\n",
    "f1 = list(map(lambda x: x*100, precision_list.values()))\n",
    "# Plotting the bar chart\n",
    "plt.figure(figsize=(4,3))\n",
    "plt.bar(f1_list.keys(), f1,color=['red','green','blue','yellow','pink'],width= 0.3,align='center')\n",
    "\n",
    "# Adding labels and title\n",
    "plt.xlabel(\"Models\")\n",
    "plt.ylabel('F1_Score')\n",
    "plt.title('Models F1_Scores')\n",
    "\n",
    "# Display the chart\n",
    "plt.show()"
   ]
  },
  {
   "cell_type": "code",
   "execution_count": null,
   "metadata": {
    "id": "qZHvHWziuecI"
   },
   "outputs": [],
   "source": []
  },
  {
   "cell_type": "code",
   "execution_count": null,
   "metadata": {
    "id": "YPiTdEA3ueZm"
   },
   "outputs": [],
   "source": []
  },
  {
   "cell_type": "code",
   "execution_count": null,
   "metadata": {
    "id": "6L06BySTueXN"
   },
   "outputs": [],
   "source": []
  },
  {
   "cell_type": "code",
   "execution_count": null,
   "metadata": {
    "id": "V74Sr-ldueU2"
   },
   "outputs": [],
   "source": []
  },
  {
   "cell_type": "code",
   "execution_count": null,
   "metadata": {
    "id": "HOQ0JOOzueSk"
   },
   "outputs": [],
   "source": []
  },
  {
   "cell_type": "code",
   "execution_count": null,
   "metadata": {
    "id": "Im5fQ5A6ueQa"
   },
   "outputs": [],
   "source": []
  },
  {
   "cell_type": "code",
   "execution_count": null,
   "metadata": {
    "id": "JOnREEViueOG"
   },
   "outputs": [],
   "source": []
  },
  {
   "cell_type": "code",
   "execution_count": null,
   "metadata": {
    "id": "D9te6chZueLw"
   },
   "outputs": [],
   "source": []
  },
  {
   "cell_type": "code",
   "execution_count": null,
   "metadata": {
    "id": "8WiWBWcOueJo"
   },
   "outputs": [],
   "source": []
  },
  {
   "cell_type": "code",
   "execution_count": null,
   "metadata": {
    "id": "PZOIpj5FueE3"
   },
   "outputs": [],
   "source": []
  },
  {
   "cell_type": "code",
   "execution_count": null,
   "metadata": {
    "id": "HkLvQ6WFud_Y"
   },
   "outputs": [],
   "source": []
  },
  {
   "cell_type": "code",
   "execution_count": null,
   "metadata": {
    "id": "7INgPnoVud9B"
   },
   "outputs": [],
   "source": []
  },
  {
   "cell_type": "code",
   "execution_count": null,
   "metadata": {
    "id": "SFxoQXZuud6s"
   },
   "outputs": [],
   "source": []
  },
  {
   "cell_type": "code",
   "execution_count": null,
   "metadata": {
    "id": "7MZdgSZ2ud4l"
   },
   "outputs": [],
   "source": []
  },
  {
   "cell_type": "code",
   "execution_count": null,
   "metadata": {
    "id": "4eBaTlaKud2X"
   },
   "outputs": [],
   "source": []
  },
  {
   "cell_type": "code",
   "execution_count": null,
   "metadata": {
    "id": "aUbK5rw1udz-"
   },
   "outputs": [],
   "source": []
  },
  {
   "cell_type": "code",
   "execution_count": null,
   "metadata": {
    "id": "JTox5iNnudxX"
   },
   "outputs": [],
   "source": []
  },
  {
   "cell_type": "code",
   "execution_count": null,
   "metadata": {
    "id": "gUVHec1wuduG"
   },
   "outputs": [],
   "source": []
  },
  {
   "cell_type": "code",
   "execution_count": null,
   "metadata": {
    "id": "5I_d9BHrudrR"
   },
   "outputs": [],
   "source": []
  },
  {
   "cell_type": "code",
   "execution_count": null,
   "metadata": {
    "id": "2TBCSB4Kudo3"
   },
   "outputs": [],
   "source": []
  }
 ],
 "metadata": {
  "colab": {
   "provenance": []
  },
  "kernelspec": {
   "display_name": "Python 3 (ipykernel)",
   "language": "python",
   "name": "python3"
  },
  "language_info": {
   "codemirror_mode": {
    "name": "ipython",
    "version": 3
   },
   "file_extension": ".py",
   "mimetype": "text/x-python",
   "name": "python",
   "nbconvert_exporter": "python",
   "pygments_lexer": "ipython3",
   "version": "3.10.9"
  }
 },
 "nbformat": 4,
 "nbformat_minor": 1
}
