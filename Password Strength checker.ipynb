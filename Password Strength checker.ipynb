{
 "cells": [
  {
   "cell_type": "markdown",
   "id": "f99d67ae",
   "metadata": {},
   "source": [
    "### Importing neccessary libraries"
   ]
  },
  {
   "cell_type": "code",
   "execution_count": 1,
   "id": "feb650d4",
   "metadata": {},
   "outputs": [],
   "source": [
    "import numpy as np\n",
    "import pandas as pd\n",
    "import matplotlib.pyplot as plt\n",
    "import seaborn as sns\n",
    "import string"
   ]
  },
  {
   "cell_type": "code",
   "execution_count": 2,
   "id": "aa6f2b85",
   "metadata": {},
   "outputs": [],
   "source": [
    "import time"
   ]
  },
  {
   "cell_type": "code",
   "execution_count": 3,
   "id": "79429423",
   "metadata": {},
   "outputs": [],
   "source": [
    "import random"
   ]
  },
  {
   "cell_type": "markdown",
   "id": "d268c59c",
   "metadata": {},
   "source": [
    "Importing the data into the notebook using pandas"
   ]
  },
  {
   "cell_type": "code",
   "execution_count": 4,
   "id": "4d3a24f2",
   "metadata": {},
   "outputs": [],
   "source": [
    "data = pd.read_csv('PasswordData.csv',low_memory=False)"
   ]
  },
  {
   "cell_type": "markdown",
   "id": "1bc0ade9",
   "metadata": {},
   "source": [
    "#### Overview of data"
   ]
  },
  {
   "cell_type": "code",
   "execution_count": 5,
   "id": "b3808b41",
   "metadata": {
    "scrolled": true
   },
   "outputs": [
    {
     "name": "stdout",
     "output_type": "stream",
     "text": [
      "<class 'pandas.core.frame.DataFrame'>\n",
      "RangeIndex: 669879 entries, 0 to 669878\n",
      "Data columns (total 5 columns):\n",
      " #   Column      Non-Null Count   Dtype  \n",
      "---  ------      --------------   -----  \n",
      " 0   password    669878 non-null  object \n",
      " 1   strength    669879 non-null  object \n",
      " 2   Unnamed: 2  238 non-null     float64\n",
      " 3   Unnamed: 3  1 non-null       object \n",
      " 4   Unnamed: 4  1 non-null       float64\n",
      "dtypes: float64(2), object(3)\n",
      "memory usage: 25.6+ MB\n"
     ]
    }
   ],
   "source": [
    "data.info()"
   ]
  },
  {
   "cell_type": "code",
   "execution_count": 6,
   "id": "b6f82823",
   "metadata": {},
   "outputs": [
    {
     "data": {
      "text/html": [
       "<div>\n",
       "<style scoped>\n",
       "    .dataframe tbody tr th:only-of-type {\n",
       "        vertical-align: middle;\n",
       "    }\n",
       "\n",
       "    .dataframe tbody tr th {\n",
       "        vertical-align: top;\n",
       "    }\n",
       "\n",
       "    .dataframe thead th {\n",
       "        text-align: right;\n",
       "    }\n",
       "</style>\n",
       "<table border=\"1\" class=\"dataframe\">\n",
       "  <thead>\n",
       "    <tr style=\"text-align: right;\">\n",
       "      <th></th>\n",
       "      <th>password</th>\n",
       "      <th>strength</th>\n",
       "      <th>Unnamed: 2</th>\n",
       "      <th>Unnamed: 3</th>\n",
       "      <th>Unnamed: 4</th>\n",
       "    </tr>\n",
       "  </thead>\n",
       "  <tbody>\n",
       "    <tr>\n",
       "      <th>0</th>\n",
       "      <td>kzde5577</td>\n",
       "      <td>1</td>\n",
       "      <td>NaN</td>\n",
       "      <td>NaN</td>\n",
       "      <td>NaN</td>\n",
       "    </tr>\n",
       "    <tr>\n",
       "      <th>1</th>\n",
       "      <td>kino3434</td>\n",
       "      <td>1</td>\n",
       "      <td>NaN</td>\n",
       "      <td>NaN</td>\n",
       "      <td>NaN</td>\n",
       "    </tr>\n",
       "    <tr>\n",
       "      <th>2</th>\n",
       "      <td>visi7k1yr</td>\n",
       "      <td>1</td>\n",
       "      <td>NaN</td>\n",
       "      <td>NaN</td>\n",
       "      <td>NaN</td>\n",
       "    </tr>\n",
       "    <tr>\n",
       "      <th>3</th>\n",
       "      <td>megzy123</td>\n",
       "      <td>1</td>\n",
       "      <td>NaN</td>\n",
       "      <td>NaN</td>\n",
       "      <td>NaN</td>\n",
       "    </tr>\n",
       "    <tr>\n",
       "      <th>4</th>\n",
       "      <td>lamborghin1</td>\n",
       "      <td>1</td>\n",
       "      <td>NaN</td>\n",
       "      <td>NaN</td>\n",
       "      <td>NaN</td>\n",
       "    </tr>\n",
       "  </tbody>\n",
       "</table>\n",
       "</div>"
      ],
      "text/plain": [
       "      password strength  Unnamed: 2 Unnamed: 3  Unnamed: 4\n",
       "0     kzde5577        1         NaN        NaN         NaN\n",
       "1     kino3434        1         NaN        NaN         NaN\n",
       "2    visi7k1yr        1         NaN        NaN         NaN\n",
       "3     megzy123        1         NaN        NaN         NaN\n",
       "4  lamborghin1        1         NaN        NaN         NaN"
      ]
     },
     "execution_count": 6,
     "metadata": {},
     "output_type": "execute_result"
    }
   ],
   "source": [
    "data.head()"
   ]
  },
  {
   "cell_type": "markdown",
   "id": "df46a978",
   "metadata": {},
   "source": [
    "creating a copy of original data"
   ]
  },
  {
   "cell_type": "code",
   "execution_count": 7,
   "id": "36ac99ba",
   "metadata": {},
   "outputs": [],
   "source": [
    "datatable = data.copy()"
   ]
  },
  {
   "cell_type": "markdown",
   "id": "af11bc89",
   "metadata": {},
   "source": [
    "Checking for the null values in data"
   ]
  },
  {
   "cell_type": "code",
   "execution_count": 8,
   "id": "a7beff73",
   "metadata": {
    "scrolled": false
   },
   "outputs": [
    {
     "data": {
      "text/plain": [
       "password      669878\n",
       "strength      669879\n",
       "Unnamed: 2       238\n",
       "Unnamed: 3         1\n",
       "Unnamed: 4         1\n",
       "dtype: int64"
      ]
     },
     "execution_count": 8,
     "metadata": {},
     "output_type": "execute_result"
    }
   ],
   "source": [
    "datatable.notnull().sum()"
   ]
  },
  {
   "cell_type": "markdown",
   "id": "6d43b629",
   "metadata": {},
   "source": [
    "#### Data cleaning"
   ]
  },
  {
   "cell_type": "markdown",
   "id": "ddf1fa6b",
   "metadata": {},
   "source": [
    "- We see that their are some Unnamed columns which are nothing but impurities in data(culumns created by extra values).\n",
    "- Point to observe is that these are not missing or null values that can be filled.\n",
    "- They are also affecting the strength column as their data type is object instead of int of float\n",
    "- Thus they need to be removed.\n",
    "- let's cleane the data remove the columns and the corresponding affected rows"
   ]
  },
  {
   "cell_type": "code",
   "execution_count": 9,
   "id": "5d84f529",
   "metadata": {},
   "outputs": [],
   "source": [
    "datatable.drop(['Unnamed: 3','Unnamed: 4'],axis=1,inplace=True)"
   ]
  },
  {
   "cell_type": "code",
   "execution_count": 10,
   "id": "f4833068",
   "metadata": {
    "scrolled": true
   },
   "outputs": [
    {
     "data": {
      "text/html": [
       "<div>\n",
       "<style scoped>\n",
       "    .dataframe tbody tr th:only-of-type {\n",
       "        vertical-align: middle;\n",
       "    }\n",
       "\n",
       "    .dataframe tbody tr th {\n",
       "        vertical-align: top;\n",
       "    }\n",
       "\n",
       "    .dataframe thead th {\n",
       "        text-align: right;\n",
       "    }\n",
       "</style>\n",
       "<table border=\"1\" class=\"dataframe\">\n",
       "  <thead>\n",
       "    <tr style=\"text-align: right;\">\n",
       "      <th></th>\n",
       "      <th>password</th>\n",
       "      <th>strength</th>\n",
       "      <th>Unnamed: 2</th>\n",
       "    </tr>\n",
       "  </thead>\n",
       "  <tbody>\n",
       "    <tr>\n",
       "      <th>0</th>\n",
       "      <td>kzde5577</td>\n",
       "      <td>1</td>\n",
       "      <td>NaN</td>\n",
       "    </tr>\n",
       "    <tr>\n",
       "      <th>1</th>\n",
       "      <td>kino3434</td>\n",
       "      <td>1</td>\n",
       "      <td>NaN</td>\n",
       "    </tr>\n",
       "    <tr>\n",
       "      <th>2</th>\n",
       "      <td>visi7k1yr</td>\n",
       "      <td>1</td>\n",
       "      <td>NaN</td>\n",
       "    </tr>\n",
       "    <tr>\n",
       "      <th>3</th>\n",
       "      <td>megzy123</td>\n",
       "      <td>1</td>\n",
       "      <td>NaN</td>\n",
       "    </tr>\n",
       "    <tr>\n",
       "      <th>4</th>\n",
       "      <td>lamborghin1</td>\n",
       "      <td>1</td>\n",
       "      <td>NaN</td>\n",
       "    </tr>\n",
       "  </tbody>\n",
       "</table>\n",
       "</div>"
      ],
      "text/plain": [
       "      password strength  Unnamed: 2\n",
       "0     kzde5577        1         NaN\n",
       "1     kino3434        1         NaN\n",
       "2    visi7k1yr        1         NaN\n",
       "3     megzy123        1         NaN\n",
       "4  lamborghin1        1         NaN"
      ]
     },
     "execution_count": 10,
     "metadata": {},
     "output_type": "execute_result"
    }
   ],
   "source": [
    "datatable.head()"
   ]
  },
  {
   "cell_type": "code",
   "execution_count": 11,
   "id": "c876ac20",
   "metadata": {},
   "outputs": [
    {
     "name": "stdout",
     "output_type": "stream",
     "text": [
      "<class 'pandas.core.frame.DataFrame'>\n",
      "RangeIndex: 669879 entries, 0 to 669878\n",
      "Data columns (total 3 columns):\n",
      " #   Column      Non-Null Count   Dtype  \n",
      "---  ------      --------------   -----  \n",
      " 0   password    669878 non-null  object \n",
      " 1   strength    669879 non-null  object \n",
      " 2   Unnamed: 2  238 non-null     float64\n",
      "dtypes: float64(1), object(2)\n",
      "memory usage: 15.3+ MB\n"
     ]
    }
   ],
   "source": [
    "datatable.info()"
   ]
  },
  {
   "cell_type": "markdown",
   "id": "adf9f6a2",
   "metadata": {},
   "source": [
    "let's delete the Unnamed 2 column and corresponding corrupted 238\n",
    "rows in the original data"
   ]
  },
  {
   "cell_type": "code",
   "execution_count": 12,
   "id": "7e393273",
   "metadata": {
    "scrolled": true
   },
   "outputs": [
    {
     "data": {
      "text/plain": [
       "password       object\n",
       "strength       object\n",
       "Unnamed: 2    float64\n",
       "dtype: object"
      ]
     },
     "execution_count": 12,
     "metadata": {},
     "output_type": "execute_result"
    }
   ],
   "source": [
    "datatable.dtypes"
   ]
  },
  {
   "cell_type": "markdown",
   "id": "458f7d72",
   "metadata": {},
   "source": [
    "Selecting only that part of data which contains 'NaN' in 'Unnamed: 2'"
   ]
  },
  {
   "cell_type": "code",
   "execution_count": 13,
   "id": "57cedac4",
   "metadata": {
    "scrolled": true
   },
   "outputs": [],
   "source": [
    "passdata = datatable[datatable['Unnamed: 2'].isnull() == True]"
   ]
  },
  {
   "cell_type": "code",
   "execution_count": 14,
   "id": "0da20c16",
   "metadata": {},
   "outputs": [
    {
     "name": "stdout",
     "output_type": "stream",
     "text": [
      "<class 'pandas.core.frame.DataFrame'>\n",
      "Int64Index: 669641 entries, 0 to 669878\n",
      "Data columns (total 3 columns):\n",
      " #   Column      Non-Null Count   Dtype  \n",
      "---  ------      --------------   -----  \n",
      " 0   password    669640 non-null  object \n",
      " 1   strength    669641 non-null  object \n",
      " 2   Unnamed: 2  0 non-null       float64\n",
      "dtypes: float64(1), object(2)\n",
      "memory usage: 20.4+ MB\n"
     ]
    }
   ],
   "source": [
    "passdata.info()"
   ]
  },
  {
   "cell_type": "code",
   "execution_count": 15,
   "id": "39abe560",
   "metadata": {},
   "outputs": [
    {
     "name": "stderr",
     "output_type": "stream",
     "text": [
      "C:\\Users\\Aman\\AppData\\Local\\Temp\\ipykernel_15984\\2967245833.py:1: SettingWithCopyWarning: \n",
      "A value is trying to be set on a copy of a slice from a DataFrame\n",
      "\n",
      "See the caveats in the documentation: https://pandas.pydata.org/pandas-docs/stable/user_guide/indexing.html#returning-a-view-versus-a-copy\n",
      "  passdata.drop(['Unnamed: 2'],axis = 1, inplace = True)\n"
     ]
    }
   ],
   "source": [
    "passdata.drop(['Unnamed: 2'],axis = 1, inplace = True)"
   ]
  },
  {
   "cell_type": "code",
   "execution_count": 16,
   "id": "4b95b4c2",
   "metadata": {
    "scrolled": true
   },
   "outputs": [
    {
     "name": "stdout",
     "output_type": "stream",
     "text": [
      "<class 'pandas.core.frame.DataFrame'>\n",
      "Int64Index: 669641 entries, 0 to 669878\n",
      "Data columns (total 2 columns):\n",
      " #   Column    Non-Null Count   Dtype \n",
      "---  ------    --------------   ----- \n",
      " 0   password  669640 non-null  object\n",
      " 1   strength  669641 non-null  object\n",
      "dtypes: object(2)\n",
      "memory usage: 15.3+ MB\n"
     ]
    }
   ],
   "source": [
    "passdata.info()"
   ]
  },
  {
   "cell_type": "markdown",
   "id": "c8b93bcc",
   "metadata": {},
   "source": [
    "There are still some row(s) that contains the object datatype in strength column\n",
    "and which is hindering conversion of strength datatype to 'int64'.\n",
    "    We need to remove it."
   ]
  },
  {
   "cell_type": "code",
   "execution_count": 17,
   "id": "ae9549d3",
   "metadata": {
    "scrolled": true
   },
   "outputs": [],
   "source": [
    "passdata = passdata[~(passdata['strength'].str.contains('.com'))]"
   ]
  },
  {
   "cell_type": "markdown",
   "id": "955b1e3b",
   "metadata": {},
   "source": [
    "Removed all the rows that contains .com type data in strength column"
   ]
  },
  {
   "cell_type": "code",
   "execution_count": 18,
   "id": "0302cb3a",
   "metadata": {},
   "outputs": [
    {
     "name": "stdout",
     "output_type": "stream",
     "text": [
      "<class 'pandas.core.frame.DataFrame'>\n",
      "Int64Index: 669640 entries, 0 to 669878\n",
      "Data columns (total 2 columns):\n",
      " #   Column    Non-Null Count   Dtype \n",
      "---  ------    --------------   ----- \n",
      " 0   password  669639 non-null  object\n",
      " 1   strength  669640 non-null  object\n",
      "dtypes: object(2)\n",
      "memory usage: 15.3+ MB\n"
     ]
    }
   ],
   "source": [
    "passdata.info()"
   ]
  },
  {
   "cell_type": "markdown",
   "id": "fe0ba4fe",
   "metadata": {},
   "source": [
    "Converting strength into int type"
   ]
  },
  {
   "cell_type": "code",
   "execution_count": 19,
   "id": "e27510de",
   "metadata": {},
   "outputs": [],
   "source": [
    "passdata['strength'] = passdata['strength'].astype('int64')"
   ]
  },
  {
   "cell_type": "code",
   "execution_count": 20,
   "id": "33f14a2c",
   "metadata": {
    "scrolled": true
   },
   "outputs": [
    {
     "name": "stdout",
     "output_type": "stream",
     "text": [
      "<class 'pandas.core.frame.DataFrame'>\n",
      "Int64Index: 669640 entries, 0 to 669878\n",
      "Data columns (total 2 columns):\n",
      " #   Column    Non-Null Count   Dtype \n",
      "---  ------    --------------   ----- \n",
      " 0   password  669639 non-null  object\n",
      " 1   strength  669640 non-null  int64 \n",
      "dtypes: int64(1), object(1)\n",
      "memory usage: 15.3+ MB\n"
     ]
    }
   ],
   "source": [
    "passdata.info()"
   ]
  },
  {
   "cell_type": "code",
   "execution_count": 21,
   "id": "48e93f7c",
   "metadata": {
    "scrolled": true
   },
   "outputs": [],
   "source": [
    "passdata = passdata[passdata['password'].isnull() == False]"
   ]
  },
  {
   "cell_type": "code",
   "execution_count": 22,
   "id": "edc4ad0d",
   "metadata": {},
   "outputs": [
    {
     "name": "stdout",
     "output_type": "stream",
     "text": [
      "<class 'pandas.core.frame.DataFrame'>\n",
      "Int64Index: 669639 entries, 0 to 669878\n",
      "Data columns (total 2 columns):\n",
      " #   Column    Non-Null Count   Dtype \n",
      "---  ------    --------------   ----- \n",
      " 0   password  669639 non-null  object\n",
      " 1   strength  669639 non-null  int64 \n",
      "dtypes: int64(1), object(1)\n",
      "memory usage: 15.3+ MB\n"
     ]
    }
   ],
   "source": [
    "passdata.info()"
   ]
  },
  {
   "cell_type": "code",
   "execution_count": 23,
   "id": "37d7c47c",
   "metadata": {},
   "outputs": [],
   "source": [
    "orgdata = passdata.copy()"
   ]
  },
  {
   "cell_type": "code",
   "execution_count": 24,
   "id": "e08a722d",
   "metadata": {
    "scrolled": false
   },
   "outputs": [
    {
     "data": {
      "text/html": [
       "<div>\n",
       "<style scoped>\n",
       "    .dataframe tbody tr th:only-of-type {\n",
       "        vertical-align: middle;\n",
       "    }\n",
       "\n",
       "    .dataframe tbody tr th {\n",
       "        vertical-align: top;\n",
       "    }\n",
       "\n",
       "    .dataframe thead th {\n",
       "        text-align: right;\n",
       "    }\n",
       "</style>\n",
       "<table border=\"1\" class=\"dataframe\">\n",
       "  <thead>\n",
       "    <tr style=\"text-align: right;\">\n",
       "      <th></th>\n",
       "      <th>password</th>\n",
       "      <th>strength</th>\n",
       "    </tr>\n",
       "  </thead>\n",
       "  <tbody>\n",
       "    <tr>\n",
       "      <th>0</th>\n",
       "      <td>kzde5577</td>\n",
       "      <td>1</td>\n",
       "    </tr>\n",
       "    <tr>\n",
       "      <th>1</th>\n",
       "      <td>kino3434</td>\n",
       "      <td>1</td>\n",
       "    </tr>\n",
       "    <tr>\n",
       "      <th>2</th>\n",
       "      <td>visi7k1yr</td>\n",
       "      <td>1</td>\n",
       "    </tr>\n",
       "    <tr>\n",
       "      <th>3</th>\n",
       "      <td>megzy123</td>\n",
       "      <td>1</td>\n",
       "    </tr>\n",
       "    <tr>\n",
       "      <th>4</th>\n",
       "      <td>lamborghin1</td>\n",
       "      <td>1</td>\n",
       "    </tr>\n",
       "  </tbody>\n",
       "</table>\n",
       "</div>"
      ],
      "text/plain": [
       "      password  strength\n",
       "0     kzde5577         1\n",
       "1     kino3434         1\n",
       "2    visi7k1yr         1\n",
       "3     megzy123         1\n",
       "4  lamborghin1         1"
      ]
     },
     "execution_count": 24,
     "metadata": {},
     "output_type": "execute_result"
    }
   ],
   "source": [
    "orgdata.head()"
   ]
  },
  {
   "cell_type": "code",
   "execution_count": 25,
   "id": "9bcd6614",
   "metadata": {},
   "outputs": [],
   "source": [
    "orgdata['strength'] = orgdata['strength'].astype('category')"
   ]
  },
  {
   "cell_type": "code",
   "execution_count": 26,
   "id": "56102b67",
   "metadata": {},
   "outputs": [
    {
     "name": "stdout",
     "output_type": "stream",
     "text": [
      "<class 'pandas.core.frame.DataFrame'>\n",
      "Int64Index: 669639 entries, 0 to 669878\n",
      "Data columns (total 2 columns):\n",
      " #   Column    Non-Null Count   Dtype   \n",
      "---  ------    --------------   -----   \n",
      " 0   password  669639 non-null  object  \n",
      " 1   strength  669639 non-null  category\n",
      "dtypes: category(1), object(1)\n",
      "memory usage: 10.9+ MB\n"
     ]
    }
   ],
   "source": [
    "orgdata.info()"
   ]
  },
  {
   "cell_type": "code",
   "execution_count": 27,
   "id": "26948f02",
   "metadata": {},
   "outputs": [
    {
     "data": {
      "text/html": [
       "<div>\n",
       "<style scoped>\n",
       "    .dataframe tbody tr th:only-of-type {\n",
       "        vertical-align: middle;\n",
       "    }\n",
       "\n",
       "    .dataframe tbody tr th {\n",
       "        vertical-align: top;\n",
       "    }\n",
       "\n",
       "    .dataframe thead th {\n",
       "        text-align: right;\n",
       "    }\n",
       "</style>\n",
       "<table border=\"1\" class=\"dataframe\">\n",
       "  <thead>\n",
       "    <tr style=\"text-align: right;\">\n",
       "      <th></th>\n",
       "      <th>password</th>\n",
       "      <th>strength</th>\n",
       "    </tr>\n",
       "  </thead>\n",
       "  <tbody>\n",
       "    <tr>\n",
       "      <th>0</th>\n",
       "      <td>kzde5577</td>\n",
       "      <td>1</td>\n",
       "    </tr>\n",
       "    <tr>\n",
       "      <th>1</th>\n",
       "      <td>kino3434</td>\n",
       "      <td>1</td>\n",
       "    </tr>\n",
       "    <tr>\n",
       "      <th>2</th>\n",
       "      <td>visi7k1yr</td>\n",
       "      <td>1</td>\n",
       "    </tr>\n",
       "    <tr>\n",
       "      <th>3</th>\n",
       "      <td>megzy123</td>\n",
       "      <td>1</td>\n",
       "    </tr>\n",
       "    <tr>\n",
       "      <th>4</th>\n",
       "      <td>lamborghin1</td>\n",
       "      <td>1</td>\n",
       "    </tr>\n",
       "  </tbody>\n",
       "</table>\n",
       "</div>"
      ],
      "text/plain": [
       "      password strength\n",
       "0     kzde5577        1\n",
       "1     kino3434        1\n",
       "2    visi7k1yr        1\n",
       "3     megzy123        1\n",
       "4  lamborghin1        1"
      ]
     },
     "execution_count": 27,
     "metadata": {},
     "output_type": "execute_result"
    }
   ],
   "source": [
    "orgdata.head()"
   ]
  },
  {
   "cell_type": "code",
   "execution_count": null,
   "id": "2a7d3b90",
   "metadata": {},
   "outputs": [],
   "source": []
  },
  {
   "cell_type": "code",
   "execution_count": 28,
   "id": "68e821d6",
   "metadata": {},
   "outputs": [],
   "source": [
    "moderate, weak, strong =orgdata['strength'].value_counts()"
   ]
  },
  {
   "cell_type": "code",
   "execution_count": 29,
   "id": "1803d6fc",
   "metadata": {},
   "outputs": [
    {
     "name": "stdout",
     "output_type": "stream",
     "text": [
      "Weak Passwords:  89701\n",
      "Moderate Passwords:  496801\n",
      "Strong Passwords:  83137\n"
     ]
    }
   ],
   "source": [
    "print(\"Weak Passwords: \",weak)\n",
    "print(\"Moderate Passwords: \",moderate)\n",
    "print(\"Strong Passwords: \",strong)"
   ]
  },
  {
   "cell_type": "code",
   "execution_count": 30,
   "id": "c09f619e",
   "metadata": {},
   "outputs": [],
   "source": [
    "allpass = {\"Moderate\":moderate, \"Weak\":weak, \"Strong\":strong}"
   ]
  },
  {
   "cell_type": "code",
   "execution_count": 31,
   "id": "6192b909",
   "metadata": {},
   "outputs": [],
   "source": [
    "#total number of rows in the dataset\n",
    "rows = len(orgdata)"
   ]
  },
  {
   "cell_type": "code",
   "execution_count": 32,
   "id": "b4df476e",
   "metadata": {},
   "outputs": [
    {
     "name": "stdout",
     "output_type": "stream",
     "text": [
      "Moderate 74.18937666414291\n",
      "Weak 13.39542649098992\n",
      "Strong 12.415196844867161\n"
     ]
    }
   ],
   "source": [
    "#percentage of each type of class in data\n",
    "for size in allpass.items():\n",
    "    print(\"{}\".format(size[0]),(size[1]/rows)*100)"
   ]
  },
  {
   "cell_type": "code",
   "execution_count": 33,
   "id": "6ccbd9f7",
   "metadata": {},
   "outputs": [],
   "source": [
    "major_class = orgdata[orgdata[\"strength\"] == 1]\n",
    "minor_class0 = orgdata[orgdata[\"strength\"] == 0]\n",
    "minor_class2 = orgdata[orgdata[\"strength\"] == 2]"
   ]
  },
  {
   "cell_type": "code",
   "execution_count": 34,
   "id": "e5526b09",
   "metadata": {},
   "outputs": [
    {
     "data": {
      "text/html": [
       "<div>\n",
       "<style scoped>\n",
       "    .dataframe tbody tr th:only-of-type {\n",
       "        vertical-align: middle;\n",
       "    }\n",
       "\n",
       "    .dataframe tbody tr th {\n",
       "        vertical-align: top;\n",
       "    }\n",
       "\n",
       "    .dataframe thead th {\n",
       "        text-align: right;\n",
       "    }\n",
       "</style>\n",
       "<table border=\"1\" class=\"dataframe\">\n",
       "  <thead>\n",
       "    <tr style=\"text-align: right;\">\n",
       "      <th></th>\n",
       "      <th>password</th>\n",
       "      <th>strength</th>\n",
       "    </tr>\n",
       "  </thead>\n",
       "  <tbody>\n",
       "    <tr>\n",
       "      <th>0</th>\n",
       "      <td>kzde5577</td>\n",
       "      <td>1</td>\n",
       "    </tr>\n",
       "    <tr>\n",
       "      <th>1</th>\n",
       "      <td>kino3434</td>\n",
       "      <td>1</td>\n",
       "    </tr>\n",
       "    <tr>\n",
       "      <th>2</th>\n",
       "      <td>visi7k1yr</td>\n",
       "      <td>1</td>\n",
       "    </tr>\n",
       "    <tr>\n",
       "      <th>3</th>\n",
       "      <td>megzy123</td>\n",
       "      <td>1</td>\n",
       "    </tr>\n",
       "    <tr>\n",
       "      <th>4</th>\n",
       "      <td>lamborghin1</td>\n",
       "      <td>1</td>\n",
       "    </tr>\n",
       "    <tr>\n",
       "      <th>...</th>\n",
       "      <td>...</td>\n",
       "      <td>...</td>\n",
       "    </tr>\n",
       "    <tr>\n",
       "      <th>669874</th>\n",
       "      <td>10redtux10</td>\n",
       "      <td>1</td>\n",
       "    </tr>\n",
       "    <tr>\n",
       "      <th>669875</th>\n",
       "      <td>infrared1</td>\n",
       "      <td>1</td>\n",
       "    </tr>\n",
       "    <tr>\n",
       "      <th>669876</th>\n",
       "      <td>184520socram</td>\n",
       "      <td>1</td>\n",
       "    </tr>\n",
       "    <tr>\n",
       "      <th>669877</th>\n",
       "      <td>marken22a</td>\n",
       "      <td>1</td>\n",
       "    </tr>\n",
       "    <tr>\n",
       "      <th>669878</th>\n",
       "      <td>fxx4pw4g</td>\n",
       "      <td>1</td>\n",
       "    </tr>\n",
       "  </tbody>\n",
       "</table>\n",
       "<p>496801 rows × 2 columns</p>\n",
       "</div>"
      ],
      "text/plain": [
       "            password strength\n",
       "0           kzde5577        1\n",
       "1           kino3434        1\n",
       "2          visi7k1yr        1\n",
       "3           megzy123        1\n",
       "4        lamborghin1        1\n",
       "...              ...      ...\n",
       "669874    10redtux10        1\n",
       "669875     infrared1        1\n",
       "669876  184520socram        1\n",
       "669877     marken22a        1\n",
       "669878      fxx4pw4g        1\n",
       "\n",
       "[496801 rows x 2 columns]"
      ]
     },
     "execution_count": 34,
     "metadata": {},
     "output_type": "execute_result"
    }
   ],
   "source": [
    "major_class"
   ]
  },
  {
   "cell_type": "code",
   "execution_count": 35,
   "id": "33887a82",
   "metadata": {},
   "outputs": [
    {
     "data": {
      "text/plain": [
       "88641"
      ]
     },
     "execution_count": 35,
     "metadata": {},
     "output_type": "execute_result"
    }
   ],
   "source": [
    "# random sample size for major class\n",
    "\n",
    "sample_size = random.randint(len(minor_class2),len(minor_class0))\n",
    "sample_size"
   ]
  },
  {
   "cell_type": "code",
   "execution_count": 36,
   "id": "ced0f74f",
   "metadata": {},
   "outputs": [],
   "source": [
    "# Assuming 'sample_size' is the desired size of the majority class\n",
    "major_class_down = major_class.sample(n=sample_size, random_state=42)"
   ]
  },
  {
   "cell_type": "code",
   "execution_count": 37,
   "id": "c1aefffc",
   "metadata": {},
   "outputs": [
    {
     "data": {
      "text/html": [
       "<div>\n",
       "<style scoped>\n",
       "    .dataframe tbody tr th:only-of-type {\n",
       "        vertical-align: middle;\n",
       "    }\n",
       "\n",
       "    .dataframe tbody tr th {\n",
       "        vertical-align: top;\n",
       "    }\n",
       "\n",
       "    .dataframe thead th {\n",
       "        text-align: right;\n",
       "    }\n",
       "</style>\n",
       "<table border=\"1\" class=\"dataframe\">\n",
       "  <thead>\n",
       "    <tr style=\"text-align: right;\">\n",
       "      <th></th>\n",
       "      <th>password</th>\n",
       "      <th>strength</th>\n",
       "    </tr>\n",
       "  </thead>\n",
       "  <tbody>\n",
       "    <tr>\n",
       "      <th>459487</th>\n",
       "      <td>martha1968</td>\n",
       "      <td>1</td>\n",
       "    </tr>\n",
       "    <tr>\n",
       "      <th>195076</th>\n",
       "      <td>pablo%varela</td>\n",
       "      <td>1</td>\n",
       "    </tr>\n",
       "    <tr>\n",
       "      <th>514888</th>\n",
       "      <td>Y79917042</td>\n",
       "      <td>1</td>\n",
       "    </tr>\n",
       "    <tr>\n",
       "      <th>421758</th>\n",
       "      <td>yamahaerg121</td>\n",
       "      <td>1</td>\n",
       "    </tr>\n",
       "    <tr>\n",
       "      <th>111088</th>\n",
       "      <td>loveless025</td>\n",
       "      <td>1</td>\n",
       "    </tr>\n",
       "    <tr>\n",
       "      <th>...</th>\n",
       "      <td>...</td>\n",
       "      <td>...</td>\n",
       "    </tr>\n",
       "    <tr>\n",
       "      <th>619956</th>\n",
       "      <td>gorkemm123</td>\n",
       "      <td>1</td>\n",
       "    </tr>\n",
       "    <tr>\n",
       "      <th>175468</th>\n",
       "      <td>seetos4439</td>\n",
       "      <td>1</td>\n",
       "    </tr>\n",
       "    <tr>\n",
       "      <th>300297</th>\n",
       "      <td>8240kushwaha</td>\n",
       "      <td>1</td>\n",
       "    </tr>\n",
       "    <tr>\n",
       "      <th>373253</th>\n",
       "      <td>gmb7014712</td>\n",
       "      <td>1</td>\n",
       "    </tr>\n",
       "    <tr>\n",
       "      <th>90755</th>\n",
       "      <td>xsl745836</td>\n",
       "      <td>1</td>\n",
       "    </tr>\n",
       "  </tbody>\n",
       "</table>\n",
       "<p>88641 rows × 2 columns</p>\n",
       "</div>"
      ],
      "text/plain": [
       "            password strength\n",
       "459487    martha1968        1\n",
       "195076  pablo%varela        1\n",
       "514888     Y79917042        1\n",
       "421758  yamahaerg121        1\n",
       "111088   loveless025        1\n",
       "...              ...      ...\n",
       "619956    gorkemm123        1\n",
       "175468    seetos4439        1\n",
       "300297  8240kushwaha        1\n",
       "373253    gmb7014712        1\n",
       "90755      xsl745836        1\n",
       "\n",
       "[88641 rows x 2 columns]"
      ]
     },
     "execution_count": 37,
     "metadata": {},
     "output_type": "execute_result"
    }
   ],
   "source": [
    "major_class_down"
   ]
  },
  {
   "cell_type": "code",
   "execution_count": 38,
   "id": "dd28d256",
   "metadata": {},
   "outputs": [],
   "source": [
    "# concatenating the all three classes togather\n",
    "orgdata = pd.concat([minor_class0,minor_class2,major_class_down], ignore_index = True)"
   ]
  },
  {
   "cell_type": "code",
   "execution_count": 39,
   "id": "a89fe3f5",
   "metadata": {
    "scrolled": true
   },
   "outputs": [
    {
     "data": {
      "text/html": [
       "<div>\n",
       "<style scoped>\n",
       "    .dataframe tbody tr th:only-of-type {\n",
       "        vertical-align: middle;\n",
       "    }\n",
       "\n",
       "    .dataframe tbody tr th {\n",
       "        vertical-align: top;\n",
       "    }\n",
       "\n",
       "    .dataframe thead th {\n",
       "        text-align: right;\n",
       "    }\n",
       "</style>\n",
       "<table border=\"1\" class=\"dataframe\">\n",
       "  <thead>\n",
       "    <tr style=\"text-align: right;\">\n",
       "      <th></th>\n",
       "      <th>password</th>\n",
       "      <th>strength</th>\n",
       "    </tr>\n",
       "  </thead>\n",
       "  <tbody>\n",
       "    <tr>\n",
       "      <th>0</th>\n",
       "      <td>intel1</td>\n",
       "      <td>0</td>\n",
       "    </tr>\n",
       "    <tr>\n",
       "      <th>1</th>\n",
       "      <td>lsdlsd1</td>\n",
       "      <td>0</td>\n",
       "    </tr>\n",
       "    <tr>\n",
       "      <th>2</th>\n",
       "      <td>olmaz.</td>\n",
       "      <td>0</td>\n",
       "    </tr>\n",
       "    <tr>\n",
       "      <th>3</th>\n",
       "      <td>ok&gt;bdk</td>\n",
       "      <td>0</td>\n",
       "    </tr>\n",
       "    <tr>\n",
       "      <th>4</th>\n",
       "      <td>d04m11</td>\n",
       "      <td>0</td>\n",
       "    </tr>\n",
       "    <tr>\n",
       "      <th>...</th>\n",
       "      <td>...</td>\n",
       "      <td>...</td>\n",
       "    </tr>\n",
       "    <tr>\n",
       "      <th>261474</th>\n",
       "      <td>gorkemm123</td>\n",
       "      <td>1</td>\n",
       "    </tr>\n",
       "    <tr>\n",
       "      <th>261475</th>\n",
       "      <td>seetos4439</td>\n",
       "      <td>1</td>\n",
       "    </tr>\n",
       "    <tr>\n",
       "      <th>261476</th>\n",
       "      <td>8240kushwaha</td>\n",
       "      <td>1</td>\n",
       "    </tr>\n",
       "    <tr>\n",
       "      <th>261477</th>\n",
       "      <td>gmb7014712</td>\n",
       "      <td>1</td>\n",
       "    </tr>\n",
       "    <tr>\n",
       "      <th>261478</th>\n",
       "      <td>xsl745836</td>\n",
       "      <td>1</td>\n",
       "    </tr>\n",
       "  </tbody>\n",
       "</table>\n",
       "<p>261479 rows × 2 columns</p>\n",
       "</div>"
      ],
      "text/plain": [
       "            password strength\n",
       "0             intel1        0\n",
       "1            lsdlsd1        0\n",
       "2             olmaz.        0\n",
       "3             ok>bdk        0\n",
       "4             d04m11        0\n",
       "...              ...      ...\n",
       "261474    gorkemm123        1\n",
       "261475    seetos4439        1\n",
       "261476  8240kushwaha        1\n",
       "261477    gmb7014712        1\n",
       "261478     xsl745836        1\n",
       "\n",
       "[261479 rows x 2 columns]"
      ]
     },
     "execution_count": 39,
     "metadata": {},
     "output_type": "execute_result"
    }
   ],
   "source": [
    "orgdata"
   ]
  },
  {
   "cell_type": "code",
   "execution_count": 40,
   "id": "cddae3a4",
   "metadata": {
    "scrolled": true
   },
   "outputs": [
    {
     "data": {
      "text/html": [
       "<div>\n",
       "<style scoped>\n",
       "    .dataframe tbody tr th:only-of-type {\n",
       "        vertical-align: middle;\n",
       "    }\n",
       "\n",
       "    .dataframe tbody tr th {\n",
       "        vertical-align: top;\n",
       "    }\n",
       "\n",
       "    .dataframe thead th {\n",
       "        text-align: right;\n",
       "    }\n",
       "</style>\n",
       "<table border=\"1\" class=\"dataframe\">\n",
       "  <thead>\n",
       "    <tr style=\"text-align: right;\">\n",
       "      <th></th>\n",
       "      <th>password</th>\n",
       "      <th>strength</th>\n",
       "    </tr>\n",
       "  </thead>\n",
       "  <tbody>\n",
       "    <tr>\n",
       "      <th>0</th>\n",
       "      <td>leonre4</td>\n",
       "      <td>0</td>\n",
       "    </tr>\n",
       "    <tr>\n",
       "      <th>1</th>\n",
       "      <td>paulonunes18</td>\n",
       "      <td>1</td>\n",
       "    </tr>\n",
       "    <tr>\n",
       "      <th>2</th>\n",
       "      <td>zillya1</td>\n",
       "      <td>0</td>\n",
       "    </tr>\n",
       "    <tr>\n",
       "      <th>3</th>\n",
       "      <td>gsahen1</td>\n",
       "      <td>0</td>\n",
       "    </tr>\n",
       "    <tr>\n",
       "      <th>4</th>\n",
       "      <td>bG3manTU0NwKj7d0</td>\n",
       "      <td>2</td>\n",
       "    </tr>\n",
       "    <tr>\n",
       "      <th>...</th>\n",
       "      <td>...</td>\n",
       "      <td>...</td>\n",
       "    </tr>\n",
       "    <tr>\n",
       "      <th>261474</th>\n",
       "      <td>iswlztnjp76</td>\n",
       "      <td>1</td>\n",
       "    </tr>\n",
       "    <tr>\n",
       "      <th>261475</th>\n",
       "      <td>9JYleIDg4MQq91FK</td>\n",
       "      <td>2</td>\n",
       "    </tr>\n",
       "    <tr>\n",
       "      <th>261476</th>\n",
       "      <td>17611994MaTT8904</td>\n",
       "      <td>2</td>\n",
       "    </tr>\n",
       "    <tr>\n",
       "      <th>261477</th>\n",
       "      <td>V4KJRHzA4MgA86GK</td>\n",
       "      <td>2</td>\n",
       "    </tr>\n",
       "    <tr>\n",
       "      <th>261478</th>\n",
       "      <td>OBVhGnTc1MAWnis1</td>\n",
       "      <td>2</td>\n",
       "    </tr>\n",
       "  </tbody>\n",
       "</table>\n",
       "<p>261479 rows × 2 columns</p>\n",
       "</div>"
      ],
      "text/plain": [
       "                password strength\n",
       "0                leonre4        0\n",
       "1           paulonunes18        1\n",
       "2                zillya1        0\n",
       "3                gsahen1        0\n",
       "4       bG3manTU0NwKj7d0        2\n",
       "...                  ...      ...\n",
       "261474       iswlztnjp76        1\n",
       "261475  9JYleIDg4MQq91FK        2\n",
       "261476  17611994MaTT8904        2\n",
       "261477  V4KJRHzA4MgA86GK        2\n",
       "261478  OBVhGnTc1MAWnis1        2\n",
       "\n",
       "[261479 rows x 2 columns]"
      ]
     },
     "execution_count": 40,
     "metadata": {},
     "output_type": "execute_result"
    }
   ],
   "source": [
    "orgdata = orgdata.sample(frac=1, random_state=42).reset_index(drop=True)\n",
    "orgdata"
   ]
  },
  {
   "cell_type": "code",
   "execution_count": 41,
   "id": "1a64bf26",
   "metadata": {},
   "outputs": [],
   "source": [
    "orgdata['strength'] = orgdata['strength'].map({0:'Weak',\n",
    "                                               1:'Moderate',\n",
    "                                               2:'Strong'})"
   ]
  },
  {
   "cell_type": "code",
   "execution_count": 42,
   "id": "88954891",
   "metadata": {},
   "outputs": [
    {
     "data": {
      "text/html": [
       "<div>\n",
       "<style scoped>\n",
       "    .dataframe tbody tr th:only-of-type {\n",
       "        vertical-align: middle;\n",
       "    }\n",
       "\n",
       "    .dataframe tbody tr th {\n",
       "        vertical-align: top;\n",
       "    }\n",
       "\n",
       "    .dataframe thead th {\n",
       "        text-align: right;\n",
       "    }\n",
       "</style>\n",
       "<table border=\"1\" class=\"dataframe\">\n",
       "  <thead>\n",
       "    <tr style=\"text-align: right;\">\n",
       "      <th></th>\n",
       "      <th>password</th>\n",
       "      <th>strength</th>\n",
       "    </tr>\n",
       "  </thead>\n",
       "  <tbody>\n",
       "    <tr>\n",
       "      <th>0</th>\n",
       "      <td>leonre4</td>\n",
       "      <td>Weak</td>\n",
       "    </tr>\n",
       "    <tr>\n",
       "      <th>1</th>\n",
       "      <td>paulonunes18</td>\n",
       "      <td>Moderate</td>\n",
       "    </tr>\n",
       "    <tr>\n",
       "      <th>2</th>\n",
       "      <td>zillya1</td>\n",
       "      <td>Weak</td>\n",
       "    </tr>\n",
       "    <tr>\n",
       "      <th>3</th>\n",
       "      <td>gsahen1</td>\n",
       "      <td>Weak</td>\n",
       "    </tr>\n",
       "    <tr>\n",
       "      <th>4</th>\n",
       "      <td>bG3manTU0NwKj7d0</td>\n",
       "      <td>Strong</td>\n",
       "    </tr>\n",
       "    <tr>\n",
       "      <th>...</th>\n",
       "      <td>...</td>\n",
       "      <td>...</td>\n",
       "    </tr>\n",
       "    <tr>\n",
       "      <th>261474</th>\n",
       "      <td>iswlztnjp76</td>\n",
       "      <td>Moderate</td>\n",
       "    </tr>\n",
       "    <tr>\n",
       "      <th>261475</th>\n",
       "      <td>9JYleIDg4MQq91FK</td>\n",
       "      <td>Strong</td>\n",
       "    </tr>\n",
       "    <tr>\n",
       "      <th>261476</th>\n",
       "      <td>17611994MaTT8904</td>\n",
       "      <td>Strong</td>\n",
       "    </tr>\n",
       "    <tr>\n",
       "      <th>261477</th>\n",
       "      <td>V4KJRHzA4MgA86GK</td>\n",
       "      <td>Strong</td>\n",
       "    </tr>\n",
       "    <tr>\n",
       "      <th>261478</th>\n",
       "      <td>OBVhGnTc1MAWnis1</td>\n",
       "      <td>Strong</td>\n",
       "    </tr>\n",
       "  </tbody>\n",
       "</table>\n",
       "<p>261479 rows × 2 columns</p>\n",
       "</div>"
      ],
      "text/plain": [
       "                password  strength\n",
       "0                leonre4      Weak\n",
       "1           paulonunes18  Moderate\n",
       "2                zillya1      Weak\n",
       "3                gsahen1      Weak\n",
       "4       bG3manTU0NwKj7d0    Strong\n",
       "...                  ...       ...\n",
       "261474       iswlztnjp76  Moderate\n",
       "261475  9JYleIDg4MQq91FK    Strong\n",
       "261476  17611994MaTT8904    Strong\n",
       "261477  V4KJRHzA4MgA86GK    Strong\n",
       "261478  OBVhGnTc1MAWnis1    Strong\n",
       "\n",
       "[261479 rows x 2 columns]"
      ]
     },
     "execution_count": 42,
     "metadata": {},
     "output_type": "execute_result"
    }
   ],
   "source": [
    "orgdata"
   ]
  },
  {
   "cell_type": "markdown",
   "id": "c4e65b47",
   "metadata": {},
   "source": [
    "### Tokenizing and Trainning a Machine learning model"
   ]
  },
  {
   "cell_type": "code",
   "execution_count": 43,
   "id": "e85bf40c",
   "metadata": {},
   "outputs": [],
   "source": [
    "from sklearn.feature_extraction.text import CountVectorizer\n",
    "from sklearn.feature_extraction.text import TfidfVectorizer\n",
    "from sklearn.model_selection import train_test_split\n",
    "from sklearn.ensemble import RandomForestClassifier"
   ]
  },
  {
   "cell_type": "code",
   "execution_count": 44,
   "id": "34f5934e",
   "metadata": {},
   "outputs": [],
   "source": [
    "def word(password):\n",
    "    character=[]\n",
    "    for i in password:\n",
    "        character.append(i)\n",
    "    return character"
   ]
  },
  {
   "cell_type": "code",
   "execution_count": 45,
   "id": "4d35cee8",
   "metadata": {},
   "outputs": [],
   "source": [
    "x = np.array(orgdata[\"password\"])\n",
    "y = np.array(orgdata[\"strength\"])"
   ]
  },
  {
   "cell_type": "code",
   "execution_count": 46,
   "id": "c4192d44",
   "metadata": {},
   "outputs": [
    {
     "name": "stderr",
     "output_type": "stream",
     "text": [
      "C:\\Anaconda_Install\\lib\\site-packages\\sklearn\\feature_extraction\\text.py:528: UserWarning: The parameter 'token_pattern' will not be used since 'tokenizer' is not None'\n",
      "  warnings.warn(\n"
     ]
    }
   ],
   "source": [
    "tdif = TfidfVectorizer(tokenizer=word)\n",
    "x = tdif.fit_transform(x)\n",
    "xtrain, xtest, ytrain, ytest = train_test_split(x, y, \n",
    "                                                test_size=0.05, \n",
    "                                                random_state=42)"
   ]
  },
  {
   "cell_type": "code",
   "execution_count": 47,
   "id": "5d8e2301",
   "metadata": {},
   "outputs": [
    {
     "name": "stdout",
     "output_type": "stream",
     "text": [
      "0.9490592014685636\n",
      "Elapsed time: 1396.8695740699768 seconds\n"
     ]
    }
   ],
   "source": [
    "start_time = time.time()\n",
    "\n",
    "model = RandomForestClassifier()\n",
    "model.fit(xtrain, ytrain)\n",
    "print(model.score(xtest, ytest))\n",
    "\n",
    "end_time = time.time()\n",
    "elapsed_time = end_time - start_time\n",
    "\n",
    "# Print the elapsed time\n",
    "print(\"Elapsed time:\", elapsed_time, \"seconds\")"
   ]
  },
  {
   "cell_type": "code",
   "execution_count": 51,
   "id": "91291f7e",
   "metadata": {
    "scrolled": true
   },
   "outputs": [
    {
     "name": "stdout",
     "output_type": "stream",
     "text": [
      "Enter Password: fhvhjg7iui98\n",
      "['Strong']\n"
     ]
    }
   ],
   "source": [
    "userpass = input(\"Enter Password: \")\n",
    "data = tdif.transform([userpass]).toarray()\n",
    "output = model.predict(data)\n",
    "print(output)\n"
   ]
  },
  {
   "cell_type": "code",
   "execution_count": null,
   "id": "a8a61bc9",
   "metadata": {},
   "outputs": [],
   "source": []
  }
 ],
 "metadata": {
  "kernelspec": {
   "display_name": "Python 3 (ipykernel)",
   "language": "python",
   "name": "python3"
  },
  "language_info": {
   "codemirror_mode": {
    "name": "ipython",
    "version": 3
   },
   "file_extension": ".py",
   "mimetype": "text/x-python",
   "name": "python",
   "nbconvert_exporter": "python",
   "pygments_lexer": "ipython3",
   "version": "3.10.9"
  }
 },
 "nbformat": 4,
 "nbformat_minor": 5
}
