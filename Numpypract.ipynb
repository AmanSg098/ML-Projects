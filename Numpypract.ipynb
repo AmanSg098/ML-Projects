{
 "cells": [
  {
   "cell_type": "markdown",
   "metadata": {},
   "source": [
    "<h3>Numpy</h3>\n",
    "<p><font size=2>NumPy, short for Numerical Python, is a fundamental library for numerical and scientific computing in Python.\n",
    "It provides support for arrays, matrices, and a wide range of mathematical functions to operate on these data structures.\n",
    "</font>\n",
    "</p>"
   ]
  },
  {
   "cell_type": "code",
   "execution_count": 1,
   "metadata": {},
   "outputs": [],
   "source": [
    "import numpy as np          # Importing Numpy and Pandas library\n",
    "import pandas as pd"
   ]
  },
  {
   "cell_type": "markdown",
   "metadata": {},
   "source": [
    "<h3>Arrays in Numpy</h3>\n",
    "<p>In NumPy, an array is a powerful and versatile data structure used for numerical computing. NumPy arrays are more efficient than Python lists for numerical operations and come with a wide range of functionality.\n",
    "<br>\n",
    "<font size=2>Features of NumPy Arrays:\n",
    "<br>\n",
    "\n",
    "- Homogeneity: All elements in a NumPy array must be of the same data type. This homogeneity allows for efficient storage and operations.\n",
    "\n",
    "- Multidimensional: While Python lists are primarily one-dimensional, NumPy arrays can be multidimensional. For example, a 2D array (matrix) or even higher-dimensional arrays are possible.\n",
    "\n",
    "- Element-wise Operations: NumPy supports element-wise operations, allowing you to perform mathematical operations on arrays in a straightforward and efficient manner without needing explicit loops.\n",
    "\n",
    "- Broadcasting: NumPy arrays support broadcasting, which allows for arithmetic operations between arrays of different shapes in a manner that aligns their dimensions.\n",
    "\n",
    "- Vectorization: Operations on NumPy arrays are implemented in a vectorized form, meaning they are processed in bulk and are highly optimized, often implemented in C or Fortran under the hood.\n",
    "\n",
    "- Array Methods: NumPy provides a wide range of methods and functions to perform operations on arrays, such as reshaping, slicing, and aggregating data.</font></p>"
   ]
  },
  {
   "cell_type": "markdown",
   "metadata": {},
   "source": [
    "#### Creating Arrays"
   ]
  },
  {
   "cell_type": "markdown",
   "metadata": {},
   "source": [
    "1D Array"
   ]
  },
  {
   "cell_type": "code",
   "execution_count": 2,
   "metadata": {},
   "outputs": [
    {
     "name": "stdout",
     "output_type": "stream",
     "text": [
      "[1 2 3 4 5]\n"
     ]
    }
   ],
   "source": [
    "lst = [1,2,3,4,5]  # creating a list 1d array\n",
    "arr = np.array(lst)         # 1d array\n",
    "print(arr)"
   ]
  },
  {
   "cell_type": "markdown",
   "metadata": {},
   "source": [
    "2d Array"
   ]
  },
  {
   "cell_type": "code",
   "execution_count": 3,
   "metadata": {},
   "outputs": [
    {
     "name": "stdout",
     "output_type": "stream",
     "text": [
      "[[1 2 3 4 5]\n",
      " [6 7 8 9 0]]\n"
     ]
    }
   ],
   "source": [
    "lst2 = [[1,2,3,4,5],[6,7,8,9,0]]   # creating a nested list for 2d array\n",
    "arr2 = np.array(lst2)           # 2d array\n",
    "print(arr2)"
   ]
  },
  {
   "cell_type": "markdown",
   "metadata": {},
   "source": [
    "Checking for the dimensions of the array (eg. 1D, 2D, 3D etc)"
   ]
  },
  {
   "cell_type": "code",
   "execution_count": 4,
   "metadata": {},
   "outputs": [
    {
     "name": "stdout",
     "output_type": "stream",
     "text": [
      "1\n",
      "2\n"
     ]
    }
   ],
   "source": [
    "print(arr.ndim)\n",
    "print(arr2.ndim)"
   ]
  },
  {
   "cell_type": "markdown",
   "metadata": {},
   "source": [
    "Checking number of rows and columns of array"
   ]
  },
  {
   "cell_type": "code",
   "execution_count": 5,
   "metadata": {},
   "outputs": [
    {
     "name": "stdout",
     "output_type": "stream",
     "text": [
      "(5,)\n",
      "(2, 5)\n"
     ]
    }
   ],
   "source": [
    "print(arr.shape)\n",
    "print(arr2.shape)"
   ]
  },
  {
   "cell_type": "markdown",
   "metadata": {},
   "source": [
    "Checking data type of array"
   ]
  },
  {
   "cell_type": "code",
   "execution_count": 6,
   "metadata": {},
   "outputs": [
    {
     "name": "stdout",
     "output_type": "stream",
     "text": [
      "int32\n",
      "int32\n",
      "<U7\n"
     ]
    }
   ],
   "source": [
    "print(arr.dtype)\n",
    "print(arr2.dtype)\n",
    "# or\n",
    "str_arr = np.array(['Apple','Banana','Mangoes'])\n",
    "print(str_arr.dtype)"
   ]
  },
  {
   "cell_type": "markdown",
   "metadata": {},
   "source": [
    "Creating an array filled with zeroes or ones"
   ]
  },
  {
   "cell_type": "code",
   "execution_count": 7,
   "metadata": {},
   "outputs": [
    {
     "name": "stdout",
     "output_type": "stream",
     "text": [
      "Zeroes Array: [[0. 0. 0. 0.]\n",
      " [0. 0. 0. 0.]\n",
      " [0. 0. 0. 0.]]\n",
      "Ones Array: [[1. 1. 1. 1.]\n",
      " [1. 1. 1. 1.]\n",
      " [1. 1. 1. 1.]]\n"
     ]
    }
   ],
   "source": [
    "zeroes = np.zeros((3,4))     # pass shape of array as paramenter\n",
    "ones = np.ones((3,4))       \n",
    "print(\"Zeroes Array:\",zeroes)\n",
    "print(\"Ones Array:\",ones)"
   ]
  },
  {
   "cell_type": "markdown",
   "metadata": {},
   "source": [
    "Creating an Empty array(which may or may not actually be empty and may be filled with random values and values can be changed later)"
   ]
  },
  {
   "cell_type": "code",
   "execution_count": 8,
   "metadata": {},
   "outputs": [
    {
     "data": {
      "text/plain": [
       "array([[0., 0., 0.],\n",
       "       [0., 0., 0.]])"
      ]
     },
     "execution_count": 8,
     "metadata": {},
     "output_type": "execute_result"
    }
   ],
   "source": [
    "empty = np.empty((2,3))\n",
    "empty"
   ]
  },
  {
   "cell_type": "markdown",
   "metadata": {},
   "source": [
    "Arange is used to create ndarray it is numpy version of range"
   ]
  },
  {
   "cell_type": "code",
   "execution_count": 9,
   "metadata": {},
   "outputs": [
    {
     "data": {
      "text/plain": [
       "array([ 0,  1,  2,  3,  4,  5,  6,  7,  8,  9, 10, 11, 12, 13, 14])"
      ]
     },
     "execution_count": 9,
     "metadata": {},
     "output_type": "execute_result"
    }
   ],
   "source": [
    "arange = np.arange(15)     # pass a number for creating an \n",
    "arange                    # array in that range "
   ]
  },
  {
   "cell_type": "markdown",
   "metadata": {},
   "source": [
    "Changing the data type of array"
   ]
  },
  {
   "cell_type": "code",
   "execution_count": 10,
   "metadata": {},
   "outputs": [
    {
     "name": "stdout",
     "output_type": "stream",
     "text": [
      "int32\n",
      "[ 0.  1.  2.  3.  4.  5.  6.  7.  8.  9. 10. 11. 12. 13. 14.]\n",
      "float64\n",
      "[b'0.0' b'1.0' b'2.0' b'3.0' b'4.0' b'5.0' b'6.0' b'7.0' b'8.0' b'9.0'\n",
      " b'10.0' b'11.0' b'12.0' b'13.0' b'14.0']\n",
      "|S32\n"
     ]
    }
   ],
   "source": [
    "# use astype() and datatype to set\n",
    "# data type for predefined array\n",
    "print(arange.dtype)\n",
    "arange = arange.astype(np.float64)   # changing to float   \n",
    "print(arange)                           \n",
    "print(arange.dtype)\n",
    "\n",
    "arange = arange.astype(np.string_)   # changing to string\n",
    "print(arange)                           \n",
    "print(arange.dtype)"
   ]
  },
  {
   "cell_type": "markdown",
   "metadata": {},
   "source": [
    "<h3>Operations between an Array and a Scalar</h3>\n",
    "<font size=2>An operation between an array and a scalar involves applying a mathematical operation (such as addition, subtraction, multiplication, or division) between each element of the array and the scalar value. This process is often called broadcasting in array-processing libraries like NumPy in Python.\n",
    "<br>\n",
    "e.g. \n",
    "<br>\n",
    "Consider an array and a scalar:\n",
    "<br>\n",
    "Array: 2,4,6,8\n",
    "Scalar: 3\n",
    "<br>\n",
    "Add the scalar to each element of the array.\n",
    "[2+3,4+3,6+3,8+3]=[5,7,9,11]\n",
    "</font>"
   ]
  },
  {
   "cell_type": "code",
   "execution_count": 11,
   "metadata": {},
   "outputs": [
    {
     "name": "stdout",
     "output_type": "stream",
     "text": [
      "[1 2 3 4 5]\n",
      "[ 6  7  8  9 10]\n"
     ]
    }
   ],
   "source": [
    "add_scalar = np.arange(1,6) # array([1,2,3,4,5])\n",
    "print(add_scalar)\n",
    "print(add_scalar + 5)"
   ]
  },
  {
   "cell_type": "markdown",
   "metadata": {},
   "source": [
    "Even an array can be mathematically operated with other one"
   ]
  },
  {
   "cell_type": "code",
   "execution_count": 12,
   "metadata": {},
   "outputs": [
    {
     "data": {
      "text/plain": [
       "array([[ 1,  4,  9, 16, 25],\n",
       "       [ 6, 14, 24, 36,  0]])"
      ]
     },
     "execution_count": 12,
     "metadata": {},
     "output_type": "execute_result"
    }
   ],
   "source": [
    "arr*arr2"
   ]
  },
  {
   "cell_type": "code",
   "execution_count": 13,
   "metadata": {},
   "outputs": [
    {
     "data": {
      "text/plain": [
       "array([1.        , 1.41421356, 1.73205081, 2.        , 2.23606798])"
      ]
     },
     "execution_count": 13,
     "metadata": {},
     "output_type": "execute_result"
    }
   ],
   "source": [
    "arr**0.5"
   ]
  },
  {
   "cell_type": "markdown",
   "metadata": {},
   "source": [
    "<h3>Indexing in Arrays</h3>\n",
    "<font size=2>\n",
    "Indexing in Python arrays allows you to access specific elements or slices of elements in the array. The most common way to work with arrays in Python is using libraries like NumPy, which provides powerful array-handling capabilities\n",
    "<br>\n",
    "There are two types of indexing in numpy:\n",
    "<br>\n",
    "\n",
    "- Positive: Starting from 0 to (no. of elements - 1)\n",
    "- Negative: Starting from -1(at last element of array) to -n(first element of array)\n",
    "\n",
    "<h3>Slicing in arrays</h3>\n",
    "Slicing is the method for accessing multiple elements of array by accessing a part of array.\n",
    "</font>"
   ]
  },
  {
   "cell_type": "code",
   "execution_count": 14,
   "metadata": {},
   "outputs": [
    {
     "name": "stdout",
     "output_type": "stream",
     "text": [
      "50\n",
      "20\n"
     ]
    }
   ],
   "source": [
    "index = np.array([10,20,30,40,50,60,70,80,90,100])\n",
    "print(index[4])     # element at index 4\n",
    "print(index[-9])    # element at index -5"
   ]
  },
  {
   "cell_type": "code",
   "execution_count": 15,
   "metadata": {},
   "outputs": [
    {
     "name": "stdout",
     "output_type": "stream",
     "text": [
      "[60 70 80]\n",
      "[ 60  70  80  90 100]\n",
      "[10 20 30 40 50 60]\n",
      "[ 10  20  30  40  50  60  70  80  90 100]\n"
     ]
    }
   ],
   "source": [
    "print(index[5:8])   # slicing array from index 5 to 8(excluded)\n",
    "print(index[5:])    # skipping last index display the array till last\n",
    "print(index[:6])    # skipping first index display the array from beginning\n",
    "                    # till the last index specified\n",
    "print(index[:])     # skippin both the indexes prints complete array    "
   ]
  },
  {
   "cell_type": "markdown",
   "metadata": {},
   "source": [
    "Accessing the element in 2 or 3 dimensional array need rows and columns to be specified, if only one thing is specified it access rows\n"
   ]
  },
  {
   "cell_type": "code",
   "execution_count": 16,
   "metadata": {},
   "outputs": [
    {
     "name": "stdout",
     "output_type": "stream",
     "text": [
      "[7 8 9]\n",
      "3\n"
     ]
    }
   ],
   "source": [
    "arr2d = np.array([[1, 2, 3], [4, 5, 6], [7, 8, 9]])\n",
    "print(arr2d[2])\n",
    "print(arr2d[0][2])"
   ]
  },
  {
   "cell_type": "markdown",
   "metadata": {},
   "source": [
    "A comma separated subscript ([row,col]) can also be used"
   ]
  },
  {
   "cell_type": "code",
   "execution_count": 17,
   "metadata": {},
   "outputs": [
    {
     "data": {
      "text/plain": [
       "6"
      ]
     },
     "execution_count": 17,
     "metadata": {},
     "output_type": "execute_result"
    }
   ],
   "source": [
    "arr2d[1,2]"
   ]
  },
  {
   "cell_type": "markdown",
   "metadata": {},
   "source": [
    "Or we can also perform slicing in 2d arrays as well"
   ]
  },
  {
   "cell_type": "code",
   "execution_count": 18,
   "metadata": {},
   "outputs": [
    {
     "name": "stdout",
     "output_type": "stream",
     "text": [
      "[4 5]\n",
      "[[2 3]\n",
      " [5 6]]\n"
     ]
    }
   ],
   "source": [
    "print(arr2d[1,:2])\n",
    "print(arr2d[:2, 1:])"
   ]
  },
  {
   "cell_type": "markdown",
   "metadata": {},
   "source": [
    "<h3>Boolean Indexing</h3>\n",
    "<font size=2>Boolean indexing (also known as masking) is a powerful feature in Python, especially when working with NumPy arrays. It allows you to select elements from an array based on the results of a boolean condition applied to the array. Instead of using explicit loops or conditionals, you can use boolean indexing to filter or modify elements efficiently.\n",
    "<br>\n",
    "How Boolean Indexing Works:\n",
    "\n",
    "- Create a Boolean Array: Apply a condition to an array, which results in a boolean array where each element is True or False, depending on whether the condition is met.\n",
    "- Use Boolean Array for Indexing: Use this boolean array to index the original array, selecting only the elements where the boolean array has True.\n",
    "</font>"
   ]
  },
  {
   "cell_type": "code",
   "execution_count": 19,
   "metadata": {},
   "outputs": [
    {
     "data": {
      "text/plain": [
       "array([10, 20, 30, 40, 50])"
      ]
     },
     "execution_count": 19,
     "metadata": {},
     "output_type": "execute_result"
    }
   ],
   "source": [
    "bool_index = np.array([10,20,30,40,50])         # creating an array\n",
    "bool_index"
   ]
  },
  {
   "cell_type": "code",
   "execution_count": 20,
   "metadata": {},
   "outputs": [
    {
     "name": "stdout",
     "output_type": "stream",
     "text": [
      "[False False  True  True  True]\n"
     ]
    }
   ],
   "source": [
    "condition = bool_index > 25     # creating boolean condition\n",
    "print(condition)"
   ]
  },
  {
   "cell_type": "code",
   "execution_count": 21,
   "metadata": {},
   "outputs": [
    {
     "name": "stdout",
     "output_type": "stream",
     "text": [
      "[30 40 50]\n"
     ]
    }
   ],
   "source": [
    "filtered_arr = bool_index[condition]    # applying bool condition\n",
    "print(filtered_arr)                     # as index on array to filter"
   ]
  },
  {
   "cell_type": "code",
   "execution_count": 22,
   "metadata": {},
   "outputs": [
    {
     "data": {
      "text/plain": [
       "array([50])"
      ]
     },
     "execution_count": 22,
     "metadata": {},
     "output_type": "execute_result"
    }
   ],
   "source": [
    "bool_index[bool_index>40]      # directly applying condition as index"
   ]
  },
  {
   "cell_type": "markdown",
   "metadata": {},
   "source": [
    "<font size=2>Let’s consider an example where we have some data in an array and an array of names with duplicates and the randn function in numpy.random used to generate some random normally distributed data.</font>"
   ]
  },
  {
   "cell_type": "code",
   "execution_count": 23,
   "metadata": {},
   "outputs": [
    {
     "data": {
      "text/plain": [
       "array(['Bob', 'Joe', 'Will', 'Bob', 'Will', 'Joe', 'Joe'], dtype='<U4')"
      ]
     },
     "execution_count": 23,
     "metadata": {},
     "output_type": "execute_result"
    }
   ],
   "source": [
    "names = np.array(['Bob', 'Joe', 'Will', 'Bob', 'Will', 'Joe', 'Joe'])\n",
    "names"
   ]
  },
  {
   "cell_type": "code",
   "execution_count": 25,
   "metadata": {},
   "outputs": [
    {
     "data": {
      "text/plain": [
       "array([[-1.4267011 ,  0.13252478,  1.03923994,  1.02748659],\n",
       "       [ 0.04207949, -1.40418122,  0.99024009, -2.3153865 ],\n",
       "       [ 0.60849859, -0.680123  ,  1.09553484,  0.34940146],\n",
       "       [ 0.21365149, -0.60072994, -1.22101717, -0.52420417],\n",
       "       [ 0.0543096 , -0.39105914,  0.06218221, -0.24265439],\n",
       "       [ 0.00365229, -0.0932944 ,  0.60338276, -1.49923569],\n",
       "       [ 0.70819585,  1.30744786, -0.55718   ,  0.50678139]])"
      ]
     },
     "execution_count": 25,
     "metadata": {},
     "output_type": "execute_result"
    }
   ],
   "source": [
    "data = np.random.randn(7, 4)\n",
    "data"
   ]
  },
  {
   "cell_type": "markdown",
   "metadata": {},
   "source": [
    "<font size=2>Suppose each name corresponds to a row in the data array. If we wanted to select all\n",
    "the rows with corresponding name 'Bob'. Like arithmetic operations, comparisons\n",
    "(such as ==) with arrays are also vectorized. Thus, comparing names with the string\n",
    "'Bob' yields a boolean array:</font>"
   ]
  },
  {
   "cell_type": "code",
   "execution_count": 26,
   "metadata": {},
   "outputs": [
    {
     "data": {
      "text/plain": [
       "array([ True, False, False,  True, False, False, False])"
      ]
     },
     "execution_count": 26,
     "metadata": {},
     "output_type": "execute_result"
    }
   ],
   "source": [
    "names == 'Bob'"
   ]
  },
  {
   "cell_type": "code",
   "execution_count": 27,
   "metadata": {},
   "outputs": [
    {
     "data": {
      "text/plain": [
       "array([[-1.4267011 ,  0.13252478,  1.03923994,  1.02748659],\n",
       "       [ 0.21365149, -0.60072994, -1.22101717, -0.52420417]])"
      ]
     },
     "execution_count": 27,
     "metadata": {},
     "output_type": "execute_result"
    }
   ],
   "source": [
    "data[names == 'Bob']\n",
    "# this will access the corresponding nth row of array where the\n",
    "# condition holds true"
   ]
  },
  {
   "cell_type": "code",
   "execution_count": 28,
   "metadata": {},
   "outputs": [],
   "source": [
    "mask = (names == 'Bob') | (names == 'Will')"
   ]
  },
  {
   "cell_type": "code",
   "execution_count": 30,
   "metadata": {},
   "outputs": [
    {
     "name": "stdout",
     "output_type": "stream",
     "text": [
      "[ True False  True  True  True False False]\n"
     ]
    },
    {
     "data": {
      "text/plain": [
       "array([[-1.4267011 ,  0.13252478,  1.03923994,  1.02748659],\n",
       "       [ 0.60849859, -0.680123  ,  1.09553484,  0.34940146],\n",
       "       [ 0.21365149, -0.60072994, -1.22101717, -0.52420417],\n",
       "       [ 0.0543096 , -0.39105914,  0.06218221, -0.24265439]])"
      ]
     },
     "execution_count": 30,
     "metadata": {},
     "output_type": "execute_result"
    }
   ],
   "source": [
    "print(mask)\n",
    "data[mask]"
   ]
  },
  {
   "cell_type": "markdown",
   "metadata": {},
   "source": [
    "Fancy Indexing"
   ]
  },
  {
   "cell_type": "code",
   "execution_count": null,
   "metadata": {},
   "outputs": [],
   "source": []
  },
  {
   "cell_type": "code",
   "execution_count": null,
   "metadata": {},
   "outputs": [],
   "source": []
  },
  {
   "cell_type": "code",
   "execution_count": null,
   "metadata": {},
   "outputs": [],
   "source": []
  },
  {
   "cell_type": "code",
   "execution_count": null,
   "metadata": {},
   "outputs": [],
   "source": []
  },
  {
   "cell_type": "code",
   "execution_count": null,
   "metadata": {},
   "outputs": [],
   "source": []
  }
 ],
 "metadata": {
  "kernelspec": {
   "display_name": "Python 3",
   "language": "python",
   "name": "python3"
  },
  "language_info": {
   "codemirror_mode": {
    "name": "ipython",
    "version": 3
   },
   "file_extension": ".py",
   "mimetype": "text/x-python",
   "name": "python",
   "nbconvert_exporter": "python",
   "pygments_lexer": "ipython3",
   "version": "3.10.7"
  }
 },
 "nbformat": 4,
 "nbformat_minor": 2
}
